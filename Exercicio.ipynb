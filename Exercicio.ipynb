{
  "nbformat": 4,
  "nbformat_minor": 0,
  "metadata": {
    "colab": {
      "provenance": [],
      "authorship_tag": "ABX9TyMBi2FgNFwMjyeYBucO5AAX",
      "include_colab_link": true
    },
    "kernelspec": {
      "name": "python3",
      "display_name": "Python 3"
    },
    "language_info": {
      "name": "python"
    }
  },
  "cells": [
    {
      "cell_type": "markdown",
      "metadata": {
        "id": "view-in-github",
        "colab_type": "text"
      },
      "source": [
        "<a href=\"https://colab.research.google.com/github/JuuhhCarol/AulasIA/blob/main/Exercicio.ipynb\" target=\"_parent\"><img src=\"https://colab.research.google.com/assets/colab-badge.svg\" alt=\"Open In Colab\"/></a>"
      ]
    },
    {
      "cell_type": "code",
      "execution_count": null,
      "metadata": {
        "id": "qcWR5saKDawR"
      },
      "outputs": [],
      "source": [
        "import pandas as pd\n",
        "import numpy as np\n",
        "import seaborn as sns\n",
        "import matplotlib.pyplot as plt\n",
        "import plotly.express as px"
      ]
    },
    {
      "cell_type": "code",
      "source": [
        "base_encontro = pd.read_csv(\"base_segundo_encontro.csv\", sep=\";\",encoding = \"latin-1\")\n",
        "base_encontro"
      ],
      "metadata": {
        "id": "FRfNZ7qoalDs"
      },
      "execution_count": null,
      "outputs": []
    },
    {
      "cell_type": "code",
      "source": [
        "base_encontro.isnull().sum()"
      ],
      "metadata": {
        "id": "3o5n0b-0aoaT"
      },
      "execution_count": null,
      "outputs": []
    },
    {
      "cell_type": "code",
      "source": [
        "X_encontro = base_encontro.iloc[:,0:8].values\n",
        "Y_encontro = base_encontro.iloc[:,8].values"
      ],
      "metadata": {
        "id": "F5XjHfP_aqKq"
      },
      "execution_count": null,
      "outputs": []
    },
    {
      "cell_type": "code",
      "source": [
        "from sklearn.preprocessing import OneHotEncoder\n",
        "from sklearn.compose import ColumnTransformer\n",
        "onehotencoder_encontro = ColumnTransformer(transformers = [('OneHot', OneHotEncoder(), [6,7])], remainder = 'passthrough')"
      ],
      "metadata": {
        "id": "DW161BqFaq10"
      },
      "execution_count": null,
      "outputs": []
    },
    {
      "cell_type": "code",
      "source": [
        "X_encontro = onehotencoder_encontro.fit_transform(X_encontro)\n",
        "X_encontro[0]"
      ],
      "metadata": {
        "id": "LCporoBGavvz"
      },
      "execution_count": null,
      "outputs": []
    },
    {
      "cell_type": "code",
      "source": [
        "from sklearn.preprocessing import StandardScaler\n",
        "\n",
        "scaler = StandardScaler()\n",
        "X_encontro_scaled = scaler.fit_transform(X_encontro)"
      ],
      "metadata": {
        "id": "wHFy6IY4ax27"
      },
      "execution_count": null,
      "outputs": []
    },
    {
      "cell_type": "code",
      "source": [
        "from sklearn.model_selection import train_test_split"
      ],
      "metadata": {
        "id": "XMR-Mf37a0Fc"
      },
      "execution_count": null,
      "outputs": []
    },
    {
      "cell_type": "code",
      "source": [
        "X_encontro_treinamento, X_encontro_teste, Y_encontro_treinamento, Y_encontro_teste = train_test_split(X_encontro, Y_encontro, test_size = 0.25, random_state= 0)"
      ],
      "metadata": {
        "id": "u03rTWCga3aL"
      },
      "execution_count": null,
      "outputs": []
    },
    {
      "cell_type": "code",
      "source": [
        "X_encontro_treinamento.shape, Y_encontro_treinamento.shape"
      ],
      "metadata": {
        "id": "1Bpu-094a5EU"
      },
      "execution_count": null,
      "outputs": []
    },
    {
      "cell_type": "code",
      "source": [
        "X_encontro_teste.shape, Y_encontro_teste.shape"
      ],
      "metadata": {
        "id": "9qUH_iaYa6Xz"
      },
      "execution_count": null,
      "outputs": []
    },
    {
      "cell_type": "code",
      "source": [
        "from sklearn.svm import SVC\n",
        "svm_encontro = SVC(kernel='linear', C = 10)\n",
        "svm_encontro.fit(X_encontro_treinamento, Y_encontro_treinamento)"
      ],
      "metadata": {
        "id": "vyxYqnENa-Cr"
      },
      "execution_count": null,
      "outputs": []
    },
    {
      "cell_type": "code",
      "source": [
        "previsoes = svm_encontro.predict(X_encontro_teste)\n",
        "previsoes"
      ],
      "metadata": {
        "id": "xe20ZJf5a-1K"
      },
      "execution_count": null,
      "outputs": []
    },
    {
      "cell_type": "code",
      "source": [
        "Y_encontro_teste"
      ],
      "metadata": {
        "id": "823_U9jAbCjb"
      },
      "execution_count": null,
      "outputs": []
    },
    {
      "cell_type": "code",
      "source": [
        "from sklearn.metrics import accuracy_score, classification_report\n",
        "accuracy_score(Y_encontro_teste, previsoes)"
      ],
      "metadata": {
        "id": "3kvw0WPybEDj"
      },
      "execution_count": null,
      "outputs": []
    },
    {
      "cell_type": "code",
      "source": [
        "from yellowbrick.classifier import ConfusionMatrix\n",
        "plt.figure(figsize=(2,2))\n",
        "cm = ConfusionMatrix(svm_encontro)\n",
        "cm.fit(X_encontro_treinamento, Y_encontro_treinamento)\n",
        "cm.score(X_encontro_teste, Y_encontro_teste)"
      ],
      "metadata": {
        "id": "ym6jWnhQbG_j"
      },
      "execution_count": null,
      "outputs": []
    },
    {
      "cell_type": "code",
      "source": [
        "def prever():\n",
        "    tempo_conversa = int(input(\"Tempo da conversa em minuto: \"))\n",
        "    risada = int(input(\"Risadas: \"))\n",
        "    pontos_comuns = int(input(\"Pontos em comum: \"))\n",
        "    nivel_timidez = int(input(\"Nível de tímidez: \"))\n",
        "    msg_antes = int(input(\"Mensagens antes: \"))\n",
        "    iniciativa = int(input(\"Iniciativa da conversa: \"))\n",
        "    local = input(\"Local do encontro: \")\n",
        "    momento = input(\"Momento da vida: \")\n",
        "\n",
        "    entrada = pd.DataFrame([[tempo_conversa,risada,pontos_comuns,nivel_timidez,msg_antes,iniciativa, local,momento]],columns = ['tempo_conversa_min','risada','pontos_comuns','nivel_timidez','\tmensagens_antes','iniciativa_conversa','local_encontro','momento_da_vida'])\n",
        "    entrada = onehotencoder_encontro.transform(entrada)\n",
        "    previsao = svm_encontro.predict(entrada)\n",
        "    print(previsao)\n",
        "\n",
        "prever()"
      ],
      "metadata": {
        "id": "EVRrcRs_bK--"
      },
      "execution_count": null,
      "outputs": []
    }
  ]
}