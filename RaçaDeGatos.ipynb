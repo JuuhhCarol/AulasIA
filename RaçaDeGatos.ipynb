{
  "nbformat": 4,
  "nbformat_minor": 0,
  "metadata": {
    "colab": {
      "provenance": [],
      "authorship_tag": "ABX9TyPfSYjgPaNy4cfh9hx3mBvz",
      "include_colab_link": true
    },
    "kernelspec": {
      "name": "python3",
      "display_name": "Python 3"
    },
    "language_info": {
      "name": "python"
    }
  },
  "cells": [
    {
      "cell_type": "markdown",
      "metadata": {
        "id": "view-in-github",
        "colab_type": "text"
      },
      "source": [
        "<a href=\"https://colab.research.google.com/github/JuuhhCarol/AulasIA/blob/main/Ra%C3%A7aDeGatos.ipynb\" target=\"_parent\"><img src=\"https://colab.research.google.com/assets/colab-badge.svg\" alt=\"Open In Colab\"/></a>"
      ]
    },
    {
      "cell_type": "code",
      "execution_count": 52,
      "metadata": {
        "id": "ATf-qWrFC5yt"
      },
      "outputs": [],
      "source": [
        "import pandas as pd\n",
        "import numpy as np\n",
        "import seaborn as sns\n",
        "import matplotlib.pyplot as plt\n",
        "import plotly.express as px"
      ]
    },
    {
      "cell_type": "code",
      "source": [
        "from google.colab import files\n",
        "uploaded = files.upload()"
      ],
      "metadata": {
        "colab": {
          "base_uri": "https://localhost:8080/",
          "height": 73
        },
        "id": "eSO9tBF9GaXK",
        "outputId": "8b80adb0-9601-49fa-ac49-eea95b705306"
      },
      "execution_count": 53,
      "outputs": [
        {
          "output_type": "display_data",
          "data": {
            "text/plain": [
              "<IPython.core.display.HTML object>"
            ],
            "text/html": [
              "\n",
              "     <input type=\"file\" id=\"files-adeb0e2b-c111-4df7-928f-e0bced271716\" name=\"files[]\" multiple disabled\n",
              "        style=\"border:none\" />\n",
              "     <output id=\"result-adeb0e2b-c111-4df7-928f-e0bced271716\">\n",
              "      Upload widget is only available when the cell has been executed in the\n",
              "      current browser session. Please rerun this cell to enable.\n",
              "      </output>\n",
              "      <script>// Copyright 2017 Google LLC\n",
              "//\n",
              "// Licensed under the Apache License, Version 2.0 (the \"License\");\n",
              "// you may not use this file except in compliance with the License.\n",
              "// You may obtain a copy of the License at\n",
              "//\n",
              "//      http://www.apache.org/licenses/LICENSE-2.0\n",
              "//\n",
              "// Unless required by applicable law or agreed to in writing, software\n",
              "// distributed under the License is distributed on an \"AS IS\" BASIS,\n",
              "// WITHOUT WARRANTIES OR CONDITIONS OF ANY KIND, either express or implied.\n",
              "// See the License for the specific language governing permissions and\n",
              "// limitations under the License.\n",
              "\n",
              "/**\n",
              " * @fileoverview Helpers for google.colab Python module.\n",
              " */\n",
              "(function(scope) {\n",
              "function span(text, styleAttributes = {}) {\n",
              "  const element = document.createElement('span');\n",
              "  element.textContent = text;\n",
              "  for (const key of Object.keys(styleAttributes)) {\n",
              "    element.style[key] = styleAttributes[key];\n",
              "  }\n",
              "  return element;\n",
              "}\n",
              "\n",
              "// Max number of bytes which will be uploaded at a time.\n",
              "const MAX_PAYLOAD_SIZE = 100 * 1024;\n",
              "\n",
              "function _uploadFiles(inputId, outputId) {\n",
              "  const steps = uploadFilesStep(inputId, outputId);\n",
              "  const outputElement = document.getElementById(outputId);\n",
              "  // Cache steps on the outputElement to make it available for the next call\n",
              "  // to uploadFilesContinue from Python.\n",
              "  outputElement.steps = steps;\n",
              "\n",
              "  return _uploadFilesContinue(outputId);\n",
              "}\n",
              "\n",
              "// This is roughly an async generator (not supported in the browser yet),\n",
              "// where there are multiple asynchronous steps and the Python side is going\n",
              "// to poll for completion of each step.\n",
              "// This uses a Promise to block the python side on completion of each step,\n",
              "// then passes the result of the previous step as the input to the next step.\n",
              "function _uploadFilesContinue(outputId) {\n",
              "  const outputElement = document.getElementById(outputId);\n",
              "  const steps = outputElement.steps;\n",
              "\n",
              "  const next = steps.next(outputElement.lastPromiseValue);\n",
              "  return Promise.resolve(next.value.promise).then((value) => {\n",
              "    // Cache the last promise value to make it available to the next\n",
              "    // step of the generator.\n",
              "    outputElement.lastPromiseValue = value;\n",
              "    return next.value.response;\n",
              "  });\n",
              "}\n",
              "\n",
              "/**\n",
              " * Generator function which is called between each async step of the upload\n",
              " * process.\n",
              " * @param {string} inputId Element ID of the input file picker element.\n",
              " * @param {string} outputId Element ID of the output display.\n",
              " * @return {!Iterable<!Object>} Iterable of next steps.\n",
              " */\n",
              "function* uploadFilesStep(inputId, outputId) {\n",
              "  const inputElement = document.getElementById(inputId);\n",
              "  inputElement.disabled = false;\n",
              "\n",
              "  const outputElement = document.getElementById(outputId);\n",
              "  outputElement.innerHTML = '';\n",
              "\n",
              "  const pickedPromise = new Promise((resolve) => {\n",
              "    inputElement.addEventListener('change', (e) => {\n",
              "      resolve(e.target.files);\n",
              "    });\n",
              "  });\n",
              "\n",
              "  const cancel = document.createElement('button');\n",
              "  inputElement.parentElement.appendChild(cancel);\n",
              "  cancel.textContent = 'Cancel upload';\n",
              "  const cancelPromise = new Promise((resolve) => {\n",
              "    cancel.onclick = () => {\n",
              "      resolve(null);\n",
              "    };\n",
              "  });\n",
              "\n",
              "  // Wait for the user to pick the files.\n",
              "  const files = yield {\n",
              "    promise: Promise.race([pickedPromise, cancelPromise]),\n",
              "    response: {\n",
              "      action: 'starting',\n",
              "    }\n",
              "  };\n",
              "\n",
              "  cancel.remove();\n",
              "\n",
              "  // Disable the input element since further picks are not allowed.\n",
              "  inputElement.disabled = true;\n",
              "\n",
              "  if (!files) {\n",
              "    return {\n",
              "      response: {\n",
              "        action: 'complete',\n",
              "      }\n",
              "    };\n",
              "  }\n",
              "\n",
              "  for (const file of files) {\n",
              "    const li = document.createElement('li');\n",
              "    li.append(span(file.name, {fontWeight: 'bold'}));\n",
              "    li.append(span(\n",
              "        `(${file.type || 'n/a'}) - ${file.size} bytes, ` +\n",
              "        `last modified: ${\n",
              "            file.lastModifiedDate ? file.lastModifiedDate.toLocaleDateString() :\n",
              "                                    'n/a'} - `));\n",
              "    const percent = span('0% done');\n",
              "    li.appendChild(percent);\n",
              "\n",
              "    outputElement.appendChild(li);\n",
              "\n",
              "    const fileDataPromise = new Promise((resolve) => {\n",
              "      const reader = new FileReader();\n",
              "      reader.onload = (e) => {\n",
              "        resolve(e.target.result);\n",
              "      };\n",
              "      reader.readAsArrayBuffer(file);\n",
              "    });\n",
              "    // Wait for the data to be ready.\n",
              "    let fileData = yield {\n",
              "      promise: fileDataPromise,\n",
              "      response: {\n",
              "        action: 'continue',\n",
              "      }\n",
              "    };\n",
              "\n",
              "    // Use a chunked sending to avoid message size limits. See b/62115660.\n",
              "    let position = 0;\n",
              "    do {\n",
              "      const length = Math.min(fileData.byteLength - position, MAX_PAYLOAD_SIZE);\n",
              "      const chunk = new Uint8Array(fileData, position, length);\n",
              "      position += length;\n",
              "\n",
              "      const base64 = btoa(String.fromCharCode.apply(null, chunk));\n",
              "      yield {\n",
              "        response: {\n",
              "          action: 'append',\n",
              "          file: file.name,\n",
              "          data: base64,\n",
              "        },\n",
              "      };\n",
              "\n",
              "      let percentDone = fileData.byteLength === 0 ?\n",
              "          100 :\n",
              "          Math.round((position / fileData.byteLength) * 100);\n",
              "      percent.textContent = `${percentDone}% done`;\n",
              "\n",
              "    } while (position < fileData.byteLength);\n",
              "  }\n",
              "\n",
              "  // All done.\n",
              "  yield {\n",
              "    response: {\n",
              "      action: 'complete',\n",
              "    }\n",
              "  };\n",
              "}\n",
              "\n",
              "scope.google = scope.google || {};\n",
              "scope.google.colab = scope.google.colab || {};\n",
              "scope.google.colab._files = {\n",
              "  _uploadFiles,\n",
              "  _uploadFilesContinue,\n",
              "};\n",
              "})(self);\n",
              "</script> "
            ]
          },
          "metadata": {}
        },
        {
          "output_type": "stream",
          "name": "stdout",
          "text": [
            "Saving cat_breeds.csv to cat_breeds (2).csv\n"
          ]
        }
      ]
    },
    {
      "cell_type": "code",
      "source": [
        "base_gato = pd.read_csv('cat_breeds.csv', sep=';')\n",
        "base_gato"
      ],
      "metadata": {
        "colab": {
          "base_uri": "https://localhost:8080/",
          "height": 423
        },
        "id": "aHFnwezZG26C",
        "outputId": "4095df65-cf1b-450b-ddcd-be4a3d74c024"
      },
      "execution_count": 54,
      "outputs": [
        {
          "output_type": "execute_result",
          "data": {
            "text/plain": [
              "           Breed  Age_in_years  Age_in_months  Gender  Neutered_or_spayed  \\\n",
              "0         Angora          0.25              3  female               False   \n",
              "1         Angora          0.33              4    male               False   \n",
              "2         Angora          0.50              6    male               False   \n",
              "3         Angora          0.50              6  female               False   \n",
              "4         Angora          0.50              6    male               False   \n",
              "...          ...           ...            ...     ...                 ...   \n",
              "1066  Maine coon          0.17              2  female               False   \n",
              "1067  Maine coon          0.17              2  female               False   \n",
              "1068  Maine coon          0.17              2    male               False   \n",
              "1069  Maine coon          0.17              2    male               False   \n",
              "1070  Maine coon          0.17              2  female               False   \n",
              "\n",
              "      Body_length  Weight Fur_colour_dominant Fur_pattern Eye_colour  \\\n",
              "0              19     2.0               white       solid       blue   \n",
              "1              19     2.5               white       solid       blue   \n",
              "2              20     2.8               black       solid      green   \n",
              "3              21     3.0               white       solid       blue   \n",
              "4              21     3.0           red/cream       tabby      green   \n",
              "...           ...     ...                 ...         ...        ...   \n",
              "1066           15     1.2               white       solid       blue   \n",
              "1067           17     1.0               black     bicolor       blue   \n",
              "1068           14     0.7           red/cream       tabby       blue   \n",
              "1069           16     1.1           red/cream       tabby      green   \n",
              "1070           15     1.1           red/cream       solid       blue   \n",
              "\n",
              "      Allowed_outdoor Preferred_food  Owner_play_time_minutes  \\\n",
              "0               False            wet                       46   \n",
              "1               False            wet                       48   \n",
              "2               False            wet                       41   \n",
              "3               False            wet                       24   \n",
              "4               False            wet                       51   \n",
              "...               ...            ...                      ...   \n",
              "1066            False            wet                       35   \n",
              "1067            False            wet                       36   \n",
              "1068            False            wet                       20   \n",
              "1069            False            wet                       34   \n",
              "1070            False            wet                       39   \n",
              "\n",
              "      Sleep_time_hours Country   Latitude  Longitude  \n",
              "0                   16  France  43.296482   5.369780  \n",
              "1                   16  France  43.611660   3.877710  \n",
              "2                   11  France  44.837789  -0.579180  \n",
              "3                    8  France  43.611660   3.877710  \n",
              "4                   10  France  48.864716   2.349014  \n",
              "...                ...     ...        ...        ...  \n",
              "1066                20      UK  51.507351  -0.127758  \n",
              "1067                19      UK  51.507351  -0.127758  \n",
              "1068                20      UK  51.507351  -0.127758  \n",
              "1069                19      UK  52.486244  -1.890401  \n",
              "1070                20      UK  51.507351  -0.127758  \n",
              "\n",
              "[1071 rows x 17 columns]"
            ],
            "text/html": [
              "\n",
              "  <div id=\"df-1b6d69e6-1f43-4505-8860-837385aea305\" class=\"colab-df-container\">\n",
              "    <div>\n",
              "<style scoped>\n",
              "    .dataframe tbody tr th:only-of-type {\n",
              "        vertical-align: middle;\n",
              "    }\n",
              "\n",
              "    .dataframe tbody tr th {\n",
              "        vertical-align: top;\n",
              "    }\n",
              "\n",
              "    .dataframe thead th {\n",
              "        text-align: right;\n",
              "    }\n",
              "</style>\n",
              "<table border=\"1\" class=\"dataframe\">\n",
              "  <thead>\n",
              "    <tr style=\"text-align: right;\">\n",
              "      <th></th>\n",
              "      <th>Breed</th>\n",
              "      <th>Age_in_years</th>\n",
              "      <th>Age_in_months</th>\n",
              "      <th>Gender</th>\n",
              "      <th>Neutered_or_spayed</th>\n",
              "      <th>Body_length</th>\n",
              "      <th>Weight</th>\n",
              "      <th>Fur_colour_dominant</th>\n",
              "      <th>Fur_pattern</th>\n",
              "      <th>Eye_colour</th>\n",
              "      <th>Allowed_outdoor</th>\n",
              "      <th>Preferred_food</th>\n",
              "      <th>Owner_play_time_minutes</th>\n",
              "      <th>Sleep_time_hours</th>\n",
              "      <th>Country</th>\n",
              "      <th>Latitude</th>\n",
              "      <th>Longitude</th>\n",
              "    </tr>\n",
              "  </thead>\n",
              "  <tbody>\n",
              "    <tr>\n",
              "      <th>0</th>\n",
              "      <td>Angora</td>\n",
              "      <td>0.25</td>\n",
              "      <td>3</td>\n",
              "      <td>female</td>\n",
              "      <td>False</td>\n",
              "      <td>19</td>\n",
              "      <td>2.0</td>\n",
              "      <td>white</td>\n",
              "      <td>solid</td>\n",
              "      <td>blue</td>\n",
              "      <td>False</td>\n",
              "      <td>wet</td>\n",
              "      <td>46</td>\n",
              "      <td>16</td>\n",
              "      <td>France</td>\n",
              "      <td>43.296482</td>\n",
              "      <td>5.369780</td>\n",
              "    </tr>\n",
              "    <tr>\n",
              "      <th>1</th>\n",
              "      <td>Angora</td>\n",
              "      <td>0.33</td>\n",
              "      <td>4</td>\n",
              "      <td>male</td>\n",
              "      <td>False</td>\n",
              "      <td>19</td>\n",
              "      <td>2.5</td>\n",
              "      <td>white</td>\n",
              "      <td>solid</td>\n",
              "      <td>blue</td>\n",
              "      <td>False</td>\n",
              "      <td>wet</td>\n",
              "      <td>48</td>\n",
              "      <td>16</td>\n",
              "      <td>France</td>\n",
              "      <td>43.611660</td>\n",
              "      <td>3.877710</td>\n",
              "    </tr>\n",
              "    <tr>\n",
              "      <th>2</th>\n",
              "      <td>Angora</td>\n",
              "      <td>0.50</td>\n",
              "      <td>6</td>\n",
              "      <td>male</td>\n",
              "      <td>False</td>\n",
              "      <td>20</td>\n",
              "      <td>2.8</td>\n",
              "      <td>black</td>\n",
              "      <td>solid</td>\n",
              "      <td>green</td>\n",
              "      <td>False</td>\n",
              "      <td>wet</td>\n",
              "      <td>41</td>\n",
              "      <td>11</td>\n",
              "      <td>France</td>\n",
              "      <td>44.837789</td>\n",
              "      <td>-0.579180</td>\n",
              "    </tr>\n",
              "    <tr>\n",
              "      <th>3</th>\n",
              "      <td>Angora</td>\n",
              "      <td>0.50</td>\n",
              "      <td>6</td>\n",
              "      <td>female</td>\n",
              "      <td>False</td>\n",
              "      <td>21</td>\n",
              "      <td>3.0</td>\n",
              "      <td>white</td>\n",
              "      <td>solid</td>\n",
              "      <td>blue</td>\n",
              "      <td>False</td>\n",
              "      <td>wet</td>\n",
              "      <td>24</td>\n",
              "      <td>8</td>\n",
              "      <td>France</td>\n",
              "      <td>43.611660</td>\n",
              "      <td>3.877710</td>\n",
              "    </tr>\n",
              "    <tr>\n",
              "      <th>4</th>\n",
              "      <td>Angora</td>\n",
              "      <td>0.50</td>\n",
              "      <td>6</td>\n",
              "      <td>male</td>\n",
              "      <td>False</td>\n",
              "      <td>21</td>\n",
              "      <td>3.0</td>\n",
              "      <td>red/cream</td>\n",
              "      <td>tabby</td>\n",
              "      <td>green</td>\n",
              "      <td>False</td>\n",
              "      <td>wet</td>\n",
              "      <td>51</td>\n",
              "      <td>10</td>\n",
              "      <td>France</td>\n",
              "      <td>48.864716</td>\n",
              "      <td>2.349014</td>\n",
              "    </tr>\n",
              "    <tr>\n",
              "      <th>...</th>\n",
              "      <td>...</td>\n",
              "      <td>...</td>\n",
              "      <td>...</td>\n",
              "      <td>...</td>\n",
              "      <td>...</td>\n",
              "      <td>...</td>\n",
              "      <td>...</td>\n",
              "      <td>...</td>\n",
              "      <td>...</td>\n",
              "      <td>...</td>\n",
              "      <td>...</td>\n",
              "      <td>...</td>\n",
              "      <td>...</td>\n",
              "      <td>...</td>\n",
              "      <td>...</td>\n",
              "      <td>...</td>\n",
              "      <td>...</td>\n",
              "    </tr>\n",
              "    <tr>\n",
              "      <th>1066</th>\n",
              "      <td>Maine coon</td>\n",
              "      <td>0.17</td>\n",
              "      <td>2</td>\n",
              "      <td>female</td>\n",
              "      <td>False</td>\n",
              "      <td>15</td>\n",
              "      <td>1.2</td>\n",
              "      <td>white</td>\n",
              "      <td>solid</td>\n",
              "      <td>blue</td>\n",
              "      <td>False</td>\n",
              "      <td>wet</td>\n",
              "      <td>35</td>\n",
              "      <td>20</td>\n",
              "      <td>UK</td>\n",
              "      <td>51.507351</td>\n",
              "      <td>-0.127758</td>\n",
              "    </tr>\n",
              "    <tr>\n",
              "      <th>1067</th>\n",
              "      <td>Maine coon</td>\n",
              "      <td>0.17</td>\n",
              "      <td>2</td>\n",
              "      <td>female</td>\n",
              "      <td>False</td>\n",
              "      <td>17</td>\n",
              "      <td>1.0</td>\n",
              "      <td>black</td>\n",
              "      <td>bicolor</td>\n",
              "      <td>blue</td>\n",
              "      <td>False</td>\n",
              "      <td>wet</td>\n",
              "      <td>36</td>\n",
              "      <td>19</td>\n",
              "      <td>UK</td>\n",
              "      <td>51.507351</td>\n",
              "      <td>-0.127758</td>\n",
              "    </tr>\n",
              "    <tr>\n",
              "      <th>1068</th>\n",
              "      <td>Maine coon</td>\n",
              "      <td>0.17</td>\n",
              "      <td>2</td>\n",
              "      <td>male</td>\n",
              "      <td>False</td>\n",
              "      <td>14</td>\n",
              "      <td>0.7</td>\n",
              "      <td>red/cream</td>\n",
              "      <td>tabby</td>\n",
              "      <td>blue</td>\n",
              "      <td>False</td>\n",
              "      <td>wet</td>\n",
              "      <td>20</td>\n",
              "      <td>20</td>\n",
              "      <td>UK</td>\n",
              "      <td>51.507351</td>\n",
              "      <td>-0.127758</td>\n",
              "    </tr>\n",
              "    <tr>\n",
              "      <th>1069</th>\n",
              "      <td>Maine coon</td>\n",
              "      <td>0.17</td>\n",
              "      <td>2</td>\n",
              "      <td>male</td>\n",
              "      <td>False</td>\n",
              "      <td>16</td>\n",
              "      <td>1.1</td>\n",
              "      <td>red/cream</td>\n",
              "      <td>tabby</td>\n",
              "      <td>green</td>\n",
              "      <td>False</td>\n",
              "      <td>wet</td>\n",
              "      <td>34</td>\n",
              "      <td>19</td>\n",
              "      <td>UK</td>\n",
              "      <td>52.486244</td>\n",
              "      <td>-1.890401</td>\n",
              "    </tr>\n",
              "    <tr>\n",
              "      <th>1070</th>\n",
              "      <td>Maine coon</td>\n",
              "      <td>0.17</td>\n",
              "      <td>2</td>\n",
              "      <td>female</td>\n",
              "      <td>False</td>\n",
              "      <td>15</td>\n",
              "      <td>1.1</td>\n",
              "      <td>red/cream</td>\n",
              "      <td>solid</td>\n",
              "      <td>blue</td>\n",
              "      <td>False</td>\n",
              "      <td>wet</td>\n",
              "      <td>39</td>\n",
              "      <td>20</td>\n",
              "      <td>UK</td>\n",
              "      <td>51.507351</td>\n",
              "      <td>-0.127758</td>\n",
              "    </tr>\n",
              "  </tbody>\n",
              "</table>\n",
              "<p>1071 rows × 17 columns</p>\n",
              "</div>\n",
              "    <div class=\"colab-df-buttons\">\n",
              "\n",
              "  <div class=\"colab-df-container\">\n",
              "    <button class=\"colab-df-convert\" onclick=\"convertToInteractive('df-1b6d69e6-1f43-4505-8860-837385aea305')\"\n",
              "            title=\"Convert this dataframe to an interactive table.\"\n",
              "            style=\"display:none;\">\n",
              "\n",
              "  <svg xmlns=\"http://www.w3.org/2000/svg\" height=\"24px\" viewBox=\"0 -960 960 960\">\n",
              "    <path d=\"M120-120v-720h720v720H120Zm60-500h600v-160H180v160Zm220 220h160v-160H400v160Zm0 220h160v-160H400v160ZM180-400h160v-160H180v160Zm440 0h160v-160H620v160ZM180-180h160v-160H180v160Zm440 0h160v-160H620v160Z\"/>\n",
              "  </svg>\n",
              "    </button>\n",
              "\n",
              "  <style>\n",
              "    .colab-df-container {\n",
              "      display:flex;\n",
              "      gap: 12px;\n",
              "    }\n",
              "\n",
              "    .colab-df-convert {\n",
              "      background-color: #E8F0FE;\n",
              "      border: none;\n",
              "      border-radius: 50%;\n",
              "      cursor: pointer;\n",
              "      display: none;\n",
              "      fill: #1967D2;\n",
              "      height: 32px;\n",
              "      padding: 0 0 0 0;\n",
              "      width: 32px;\n",
              "    }\n",
              "\n",
              "    .colab-df-convert:hover {\n",
              "      background-color: #E2EBFA;\n",
              "      box-shadow: 0px 1px 2px rgba(60, 64, 67, 0.3), 0px 1px 3px 1px rgba(60, 64, 67, 0.15);\n",
              "      fill: #174EA6;\n",
              "    }\n",
              "\n",
              "    .colab-df-buttons div {\n",
              "      margin-bottom: 4px;\n",
              "    }\n",
              "\n",
              "    [theme=dark] .colab-df-convert {\n",
              "      background-color: #3B4455;\n",
              "      fill: #D2E3FC;\n",
              "    }\n",
              "\n",
              "    [theme=dark] .colab-df-convert:hover {\n",
              "      background-color: #434B5C;\n",
              "      box-shadow: 0px 1px 3px 1px rgba(0, 0, 0, 0.15);\n",
              "      filter: drop-shadow(0px 1px 2px rgba(0, 0, 0, 0.3));\n",
              "      fill: #FFFFFF;\n",
              "    }\n",
              "  </style>\n",
              "\n",
              "    <script>\n",
              "      const buttonEl =\n",
              "        document.querySelector('#df-1b6d69e6-1f43-4505-8860-837385aea305 button.colab-df-convert');\n",
              "      buttonEl.style.display =\n",
              "        google.colab.kernel.accessAllowed ? 'block' : 'none';\n",
              "\n",
              "      async function convertToInteractive(key) {\n",
              "        const element = document.querySelector('#df-1b6d69e6-1f43-4505-8860-837385aea305');\n",
              "        const dataTable =\n",
              "          await google.colab.kernel.invokeFunction('convertToInteractive',\n",
              "                                                    [key], {});\n",
              "        if (!dataTable) return;\n",
              "\n",
              "        const docLinkHtml = 'Like what you see? Visit the ' +\n",
              "          '<a target=\"_blank\" href=https://colab.research.google.com/notebooks/data_table.ipynb>data table notebook</a>'\n",
              "          + ' to learn more about interactive tables.';\n",
              "        element.innerHTML = '';\n",
              "        dataTable['output_type'] = 'display_data';\n",
              "        await google.colab.output.renderOutput(dataTable, element);\n",
              "        const docLink = document.createElement('div');\n",
              "        docLink.innerHTML = docLinkHtml;\n",
              "        element.appendChild(docLink);\n",
              "      }\n",
              "    </script>\n",
              "  </div>\n",
              "\n",
              "\n",
              "    <div id=\"df-f17e05c3-1ed8-4b0b-8c44-c1293911bb55\">\n",
              "      <button class=\"colab-df-quickchart\" onclick=\"quickchart('df-f17e05c3-1ed8-4b0b-8c44-c1293911bb55')\"\n",
              "                title=\"Suggest charts\"\n",
              "                style=\"display:none;\">\n",
              "\n",
              "<svg xmlns=\"http://www.w3.org/2000/svg\" height=\"24px\"viewBox=\"0 0 24 24\"\n",
              "     width=\"24px\">\n",
              "    <g>\n",
              "        <path d=\"M19 3H5c-1.1 0-2 .9-2 2v14c0 1.1.9 2 2 2h14c1.1 0 2-.9 2-2V5c0-1.1-.9-2-2-2zM9 17H7v-7h2v7zm4 0h-2V7h2v10zm4 0h-2v-4h2v4z\"/>\n",
              "    </g>\n",
              "</svg>\n",
              "      </button>\n",
              "\n",
              "<style>\n",
              "  .colab-df-quickchart {\n",
              "      --bg-color: #E8F0FE;\n",
              "      --fill-color: #1967D2;\n",
              "      --hover-bg-color: #E2EBFA;\n",
              "      --hover-fill-color: #174EA6;\n",
              "      --disabled-fill-color: #AAA;\n",
              "      --disabled-bg-color: #DDD;\n",
              "  }\n",
              "\n",
              "  [theme=dark] .colab-df-quickchart {\n",
              "      --bg-color: #3B4455;\n",
              "      --fill-color: #D2E3FC;\n",
              "      --hover-bg-color: #434B5C;\n",
              "      --hover-fill-color: #FFFFFF;\n",
              "      --disabled-bg-color: #3B4455;\n",
              "      --disabled-fill-color: #666;\n",
              "  }\n",
              "\n",
              "  .colab-df-quickchart {\n",
              "    background-color: var(--bg-color);\n",
              "    border: none;\n",
              "    border-radius: 50%;\n",
              "    cursor: pointer;\n",
              "    display: none;\n",
              "    fill: var(--fill-color);\n",
              "    height: 32px;\n",
              "    padding: 0;\n",
              "    width: 32px;\n",
              "  }\n",
              "\n",
              "  .colab-df-quickchart:hover {\n",
              "    background-color: var(--hover-bg-color);\n",
              "    box-shadow: 0 1px 2px rgba(60, 64, 67, 0.3), 0 1px 3px 1px rgba(60, 64, 67, 0.15);\n",
              "    fill: var(--button-hover-fill-color);\n",
              "  }\n",
              "\n",
              "  .colab-df-quickchart-complete:disabled,\n",
              "  .colab-df-quickchart-complete:disabled:hover {\n",
              "    background-color: var(--disabled-bg-color);\n",
              "    fill: var(--disabled-fill-color);\n",
              "    box-shadow: none;\n",
              "  }\n",
              "\n",
              "  .colab-df-spinner {\n",
              "    border: 2px solid var(--fill-color);\n",
              "    border-color: transparent;\n",
              "    border-bottom-color: var(--fill-color);\n",
              "    animation:\n",
              "      spin 1s steps(1) infinite;\n",
              "  }\n",
              "\n",
              "  @keyframes spin {\n",
              "    0% {\n",
              "      border-color: transparent;\n",
              "      border-bottom-color: var(--fill-color);\n",
              "      border-left-color: var(--fill-color);\n",
              "    }\n",
              "    20% {\n",
              "      border-color: transparent;\n",
              "      border-left-color: var(--fill-color);\n",
              "      border-top-color: var(--fill-color);\n",
              "    }\n",
              "    30% {\n",
              "      border-color: transparent;\n",
              "      border-left-color: var(--fill-color);\n",
              "      border-top-color: var(--fill-color);\n",
              "      border-right-color: var(--fill-color);\n",
              "    }\n",
              "    40% {\n",
              "      border-color: transparent;\n",
              "      border-right-color: var(--fill-color);\n",
              "      border-top-color: var(--fill-color);\n",
              "    }\n",
              "    60% {\n",
              "      border-color: transparent;\n",
              "      border-right-color: var(--fill-color);\n",
              "    }\n",
              "    80% {\n",
              "      border-color: transparent;\n",
              "      border-right-color: var(--fill-color);\n",
              "      border-bottom-color: var(--fill-color);\n",
              "    }\n",
              "    90% {\n",
              "      border-color: transparent;\n",
              "      border-bottom-color: var(--fill-color);\n",
              "    }\n",
              "  }\n",
              "</style>\n",
              "\n",
              "      <script>\n",
              "        async function quickchart(key) {\n",
              "          const quickchartButtonEl =\n",
              "            document.querySelector('#' + key + ' button');\n",
              "          quickchartButtonEl.disabled = true;  // To prevent multiple clicks.\n",
              "          quickchartButtonEl.classList.add('colab-df-spinner');\n",
              "          try {\n",
              "            const charts = await google.colab.kernel.invokeFunction(\n",
              "                'suggestCharts', [key], {});\n",
              "          } catch (error) {\n",
              "            console.error('Error during call to suggestCharts:', error);\n",
              "          }\n",
              "          quickchartButtonEl.classList.remove('colab-df-spinner');\n",
              "          quickchartButtonEl.classList.add('colab-df-quickchart-complete');\n",
              "        }\n",
              "        (() => {\n",
              "          let quickchartButtonEl =\n",
              "            document.querySelector('#df-f17e05c3-1ed8-4b0b-8c44-c1293911bb55 button');\n",
              "          quickchartButtonEl.style.display =\n",
              "            google.colab.kernel.accessAllowed ? 'block' : 'none';\n",
              "        })();\n",
              "      </script>\n",
              "    </div>\n",
              "\n",
              "  <div id=\"id_c2f6fe39-5b98-4fa1-8d8b-6a58e278a7f2\">\n",
              "    <style>\n",
              "      .colab-df-generate {\n",
              "        background-color: #E8F0FE;\n",
              "        border: none;\n",
              "        border-radius: 50%;\n",
              "        cursor: pointer;\n",
              "        display: none;\n",
              "        fill: #1967D2;\n",
              "        height: 32px;\n",
              "        padding: 0 0 0 0;\n",
              "        width: 32px;\n",
              "      }\n",
              "\n",
              "      .colab-df-generate:hover {\n",
              "        background-color: #E2EBFA;\n",
              "        box-shadow: 0px 1px 2px rgba(60, 64, 67, 0.3), 0px 1px 3px 1px rgba(60, 64, 67, 0.15);\n",
              "        fill: #174EA6;\n",
              "      }\n",
              "\n",
              "      [theme=dark] .colab-df-generate {\n",
              "        background-color: #3B4455;\n",
              "        fill: #D2E3FC;\n",
              "      }\n",
              "\n",
              "      [theme=dark] .colab-df-generate:hover {\n",
              "        background-color: #434B5C;\n",
              "        box-shadow: 0px 1px 3px 1px rgba(0, 0, 0, 0.15);\n",
              "        filter: drop-shadow(0px 1px 2px rgba(0, 0, 0, 0.3));\n",
              "        fill: #FFFFFF;\n",
              "      }\n",
              "    </style>\n",
              "    <button class=\"colab-df-generate\" onclick=\"generateWithVariable('base_gato')\"\n",
              "            title=\"Generate code using this dataframe.\"\n",
              "            style=\"display:none;\">\n",
              "\n",
              "  <svg xmlns=\"http://www.w3.org/2000/svg\" height=\"24px\"viewBox=\"0 0 24 24\"\n",
              "       width=\"24px\">\n",
              "    <path d=\"M7,19H8.4L18.45,9,17,7.55,7,17.6ZM5,21V16.75L18.45,3.32a2,2,0,0,1,2.83,0l1.4,1.43a1.91,1.91,0,0,1,.58,1.4,1.91,1.91,0,0,1-.58,1.4L9.25,21ZM18.45,9,17,7.55Zm-12,3A5.31,5.31,0,0,0,4.9,8.1,5.31,5.31,0,0,0,1,6.5,5.31,5.31,0,0,0,4.9,4.9,5.31,5.31,0,0,0,6.5,1,5.31,5.31,0,0,0,8.1,4.9,5.31,5.31,0,0,0,12,6.5,5.46,5.46,0,0,0,6.5,12Z\"/>\n",
              "  </svg>\n",
              "    </button>\n",
              "    <script>\n",
              "      (() => {\n",
              "      const buttonEl =\n",
              "        document.querySelector('#id_c2f6fe39-5b98-4fa1-8d8b-6a58e278a7f2 button.colab-df-generate');\n",
              "      buttonEl.style.display =\n",
              "        google.colab.kernel.accessAllowed ? 'block' : 'none';\n",
              "\n",
              "      buttonEl.onclick = () => {\n",
              "        google.colab.notebook.generateWithVariable('base_gato');\n",
              "      }\n",
              "      })();\n",
              "    </script>\n",
              "  </div>\n",
              "\n",
              "    </div>\n",
              "  </div>\n"
            ],
            "application/vnd.google.colaboratory.intrinsic+json": {
              "type": "dataframe",
              "variable_name": "base_gato",
              "summary": "{\n  \"name\": \"base_gato\",\n  \"rows\": 1071,\n  \"fields\": [\n    {\n      \"column\": \"Breed\",\n      \"properties\": {\n        \"dtype\": \"category\",\n        \"num_unique_values\": 3,\n        \"samples\": [\n          \"Angora\",\n          \"Maine coon\",\n          \"Ragdoll\"\n        ],\n        \"semantic_type\": \"\",\n        \"description\": \"\"\n      }\n    },\n    {\n      \"column\": \"Age_in_years\",\n      \"properties\": {\n        \"dtype\": \"number\",\n        \"std\": 2.737468840127954,\n        \"min\": 0.08,\n        \"max\": 11.25,\n        \"num_unique_values\": 124,\n        \"samples\": [\n          5.33,\n          3.5,\n          2.67\n        ],\n        \"semantic_type\": \"\",\n        \"description\": \"\"\n      }\n    },\n    {\n      \"column\": \"Age_in_months\",\n      \"properties\": {\n        \"dtype\": \"number\",\n        \"std\": 32,\n        \"min\": 1,\n        \"max\": 135,\n        \"num_unique_values\": 124,\n        \"samples\": [\n          64,\n          42,\n          32\n        ],\n        \"semantic_type\": \"\",\n        \"description\": \"\"\n      }\n    },\n    {\n      \"column\": \"Gender\",\n      \"properties\": {\n        \"dtype\": \"category\",\n        \"num_unique_values\": 2,\n        \"samples\": [\n          \"male\",\n          \"female\"\n        ],\n        \"semantic_type\": \"\",\n        \"description\": \"\"\n      }\n    },\n    {\n      \"column\": \"Neutered_or_spayed\",\n      \"properties\": {\n        \"dtype\": \"boolean\",\n        \"num_unique_values\": 2,\n        \"samples\": [\n          true,\n          false\n        ],\n        \"semantic_type\": \"\",\n        \"description\": \"\"\n      }\n    },\n    {\n      \"column\": \"Body_length\",\n      \"properties\": {\n        \"dtype\": \"number\",\n        \"std\": 16,\n        \"min\": 10,\n        \"max\": 102,\n        \"num_unique_values\": 81,\n        \"samples\": [\n          56,\n          19\n        ],\n        \"semantic_type\": \"\",\n        \"description\": \"\"\n      }\n    },\n    {\n      \"column\": \"Weight\",\n      \"properties\": {\n        \"dtype\": \"number\",\n        \"std\": 2.2922417330632014,\n        \"min\": 0.5,\n        \"max\": 12.1,\n        \"num_unique_values\": 373,\n        \"samples\": [\n          9.07,\n          2.2\n        ],\n        \"semantic_type\": \"\",\n        \"description\": \"\"\n      }\n    },\n    {\n      \"column\": \"Fur_colour_dominant\",\n      \"properties\": {\n        \"dtype\": \"category\",\n        \"num_unique_values\": 6,\n        \"samples\": [\n          \"white\",\n          \"black\"\n        ],\n        \"semantic_type\": \"\",\n        \"description\": \"\"\n      }\n    },\n    {\n      \"column\": \"Fur_pattern\",\n      \"properties\": {\n        \"dtype\": \"category\",\n        \"num_unique_values\": 6,\n        \"samples\": [\n          \"solid\",\n          \"tabby\"\n        ],\n        \"semantic_type\": \"\",\n        \"description\": \"\"\n      }\n    },\n    {\n      \"column\": \"Eye_colour\",\n      \"properties\": {\n        \"dtype\": \"category\",\n        \"num_unique_values\": 4,\n        \"samples\": [\n          \"green\",\n          \"yellow\"\n        ],\n        \"semantic_type\": \"\",\n        \"description\": \"\"\n      }\n    },\n    {\n      \"column\": \"Allowed_outdoor\",\n      \"properties\": {\n        \"dtype\": \"boolean\",\n        \"num_unique_values\": 2,\n        \"samples\": [\n          true,\n          false\n        ],\n        \"semantic_type\": \"\",\n        \"description\": \"\"\n      }\n    },\n    {\n      \"column\": \"Preferred_food\",\n      \"properties\": {\n        \"dtype\": \"category\",\n        \"num_unique_values\": 2,\n        \"samples\": [\n          \"dry\",\n          \"wet\"\n        ],\n        \"semantic_type\": \"\",\n        \"description\": \"\"\n      }\n    },\n    {\n      \"column\": \"Owner_play_time_minutes\",\n      \"properties\": {\n        \"dtype\": \"number\",\n        \"std\": 10,\n        \"min\": 0,\n        \"max\": 60,\n        \"num_unique_values\": 57,\n        \"samples\": [\n          46,\n          30\n        ],\n        \"semantic_type\": \"\",\n        \"description\": \"\"\n      }\n    },\n    {\n      \"column\": \"Sleep_time_hours\",\n      \"properties\": {\n        \"dtype\": \"number\",\n        \"std\": 2,\n        \"min\": 8,\n        \"max\": 22,\n        \"num_unique_values\": 15,\n        \"samples\": [\n          14,\n          15\n        ],\n        \"semantic_type\": \"\",\n        \"description\": \"\"\n      }\n    },\n    {\n      \"column\": \"Country\",\n      \"properties\": {\n        \"dtype\": \"category\",\n        \"num_unique_values\": 5,\n        \"samples\": [\n          \"USA\",\n          \"UK\"\n        ],\n        \"semantic_type\": \"\",\n        \"description\": \"\"\n      }\n    },\n    {\n      \"column\": \"Latitude\",\n      \"properties\": {\n        \"dtype\": \"number\",\n        \"std\": 4.965876252078862,\n        \"min\": 37.77493,\n        \"max\": 53.800755,\n        \"num_unique_values\": 28,\n        \"samples\": [\n          45.52345,\n          52.486244\n        ],\n        \"semantic_type\": \"\",\n        \"description\": \"\"\n      }\n    },\n    {\n      \"column\": \"Longitude\",\n      \"properties\": {\n        \"dtype\": \"number\",\n        \"std\": 45.36414061947897,\n        \"min\": -123.116226,\n        \"max\": 13.404954,\n        \"num_unique_values\": 28,\n        \"samples\": [\n          -122.67621,\n          -1.890401\n        ],\n        \"semantic_type\": \"\",\n        \"description\": \"\"\n      }\n    }\n  ]\n}"
            }
          },
          "metadata": {},
          "execution_count": 54
        }
      ]
    },
    {
      "cell_type": "code",
      "source": [
        "base_gato.isnull().sum()"
      ],
      "metadata": {
        "colab": {
          "base_uri": "https://localhost:8080/",
          "height": 617
        },
        "id": "4GD9sLaOKm0S",
        "outputId": "cf222ef8-2405-4d2f-c149-f162fe7ae861"
      },
      "execution_count": 55,
      "outputs": [
        {
          "output_type": "execute_result",
          "data": {
            "text/plain": [
              "Breed                      0\n",
              "Age_in_years               0\n",
              "Age_in_months              0\n",
              "Gender                     0\n",
              "Neutered_or_spayed         0\n",
              "Body_length                0\n",
              "Weight                     0\n",
              "Fur_colour_dominant        0\n",
              "Fur_pattern                0\n",
              "Eye_colour                 0\n",
              "Allowed_outdoor            0\n",
              "Preferred_food             0\n",
              "Owner_play_time_minutes    0\n",
              "Sleep_time_hours           0\n",
              "Country                    0\n",
              "Latitude                   0\n",
              "Longitude                  0\n",
              "dtype: int64"
            ],
            "text/html": [
              "<div>\n",
              "<style scoped>\n",
              "    .dataframe tbody tr th:only-of-type {\n",
              "        vertical-align: middle;\n",
              "    }\n",
              "\n",
              "    .dataframe tbody tr th {\n",
              "        vertical-align: top;\n",
              "    }\n",
              "\n",
              "    .dataframe thead th {\n",
              "        text-align: right;\n",
              "    }\n",
              "</style>\n",
              "<table border=\"1\" class=\"dataframe\">\n",
              "  <thead>\n",
              "    <tr style=\"text-align: right;\">\n",
              "      <th></th>\n",
              "      <th>0</th>\n",
              "    </tr>\n",
              "  </thead>\n",
              "  <tbody>\n",
              "    <tr>\n",
              "      <th>Breed</th>\n",
              "      <td>0</td>\n",
              "    </tr>\n",
              "    <tr>\n",
              "      <th>Age_in_years</th>\n",
              "      <td>0</td>\n",
              "    </tr>\n",
              "    <tr>\n",
              "      <th>Age_in_months</th>\n",
              "      <td>0</td>\n",
              "    </tr>\n",
              "    <tr>\n",
              "      <th>Gender</th>\n",
              "      <td>0</td>\n",
              "    </tr>\n",
              "    <tr>\n",
              "      <th>Neutered_or_spayed</th>\n",
              "      <td>0</td>\n",
              "    </tr>\n",
              "    <tr>\n",
              "      <th>Body_length</th>\n",
              "      <td>0</td>\n",
              "    </tr>\n",
              "    <tr>\n",
              "      <th>Weight</th>\n",
              "      <td>0</td>\n",
              "    </tr>\n",
              "    <tr>\n",
              "      <th>Fur_colour_dominant</th>\n",
              "      <td>0</td>\n",
              "    </tr>\n",
              "    <tr>\n",
              "      <th>Fur_pattern</th>\n",
              "      <td>0</td>\n",
              "    </tr>\n",
              "    <tr>\n",
              "      <th>Eye_colour</th>\n",
              "      <td>0</td>\n",
              "    </tr>\n",
              "    <tr>\n",
              "      <th>Allowed_outdoor</th>\n",
              "      <td>0</td>\n",
              "    </tr>\n",
              "    <tr>\n",
              "      <th>Preferred_food</th>\n",
              "      <td>0</td>\n",
              "    </tr>\n",
              "    <tr>\n",
              "      <th>Owner_play_time_minutes</th>\n",
              "      <td>0</td>\n",
              "    </tr>\n",
              "    <tr>\n",
              "      <th>Sleep_time_hours</th>\n",
              "      <td>0</td>\n",
              "    </tr>\n",
              "    <tr>\n",
              "      <th>Country</th>\n",
              "      <td>0</td>\n",
              "    </tr>\n",
              "    <tr>\n",
              "      <th>Latitude</th>\n",
              "      <td>0</td>\n",
              "    </tr>\n",
              "    <tr>\n",
              "      <th>Longitude</th>\n",
              "      <td>0</td>\n",
              "    </tr>\n",
              "  </tbody>\n",
              "</table>\n",
              "</div><br><label><b>dtype:</b> int64</label>"
            ]
          },
          "metadata": {},
          "execution_count": 55
        }
      ]
    },
    {
      "cell_type": "code",
      "source": [
        "base_gato = base_gato.dropna(axis=1)"
      ],
      "metadata": {
        "id": "ld_rkyH-QbQZ"
      },
      "execution_count": 56,
      "outputs": []
    },
    {
      "cell_type": "code",
      "source": [
        "print(base_gato)"
      ],
      "metadata": {
        "colab": {
          "base_uri": "https://localhost:8080/"
        },
        "id": "fkjxpju4Qiao",
        "outputId": "47e15bf3-85ba-4875-d219-825a91c00789"
      },
      "execution_count": 57,
      "outputs": [
        {
          "output_type": "stream",
          "name": "stdout",
          "text": [
            "           Breed  Age_in_years  Age_in_months  Gender  Neutered_or_spayed  \\\n",
            "0         Angora          0.25              3  female               False   \n",
            "1         Angora          0.33              4    male               False   \n",
            "2         Angora          0.50              6    male               False   \n",
            "3         Angora          0.50              6  female               False   \n",
            "4         Angora          0.50              6    male               False   \n",
            "...          ...           ...            ...     ...                 ...   \n",
            "1066  Maine coon          0.17              2  female               False   \n",
            "1067  Maine coon          0.17              2  female               False   \n",
            "1068  Maine coon          0.17              2    male               False   \n",
            "1069  Maine coon          0.17              2    male               False   \n",
            "1070  Maine coon          0.17              2  female               False   \n",
            "\n",
            "      Body_length  Weight Fur_colour_dominant Fur_pattern Eye_colour  \\\n",
            "0              19     2.0               white       solid       blue   \n",
            "1              19     2.5               white       solid       blue   \n",
            "2              20     2.8               black       solid      green   \n",
            "3              21     3.0               white       solid       blue   \n",
            "4              21     3.0           red/cream       tabby      green   \n",
            "...           ...     ...                 ...         ...        ...   \n",
            "1066           15     1.2               white       solid       blue   \n",
            "1067           17     1.0               black     bicolor       blue   \n",
            "1068           14     0.7           red/cream       tabby       blue   \n",
            "1069           16     1.1           red/cream       tabby      green   \n",
            "1070           15     1.1           red/cream       solid       blue   \n",
            "\n",
            "      Allowed_outdoor Preferred_food  Owner_play_time_minutes  \\\n",
            "0               False            wet                       46   \n",
            "1               False            wet                       48   \n",
            "2               False            wet                       41   \n",
            "3               False            wet                       24   \n",
            "4               False            wet                       51   \n",
            "...               ...            ...                      ...   \n",
            "1066            False            wet                       35   \n",
            "1067            False            wet                       36   \n",
            "1068            False            wet                       20   \n",
            "1069            False            wet                       34   \n",
            "1070            False            wet                       39   \n",
            "\n",
            "      Sleep_time_hours Country   Latitude  Longitude  \n",
            "0                   16  France  43.296482   5.369780  \n",
            "1                   16  France  43.611660   3.877710  \n",
            "2                   11  France  44.837789  -0.579180  \n",
            "3                    8  France  43.611660   3.877710  \n",
            "4                   10  France  48.864716   2.349014  \n",
            "...                ...     ...        ...        ...  \n",
            "1066                20      UK  51.507351  -0.127758  \n",
            "1067                19      UK  51.507351  -0.127758  \n",
            "1068                20      UK  51.507351  -0.127758  \n",
            "1069                19      UK  52.486244  -1.890401  \n",
            "1070                20      UK  51.507351  -0.127758  \n",
            "\n",
            "[1071 rows x 17 columns]\n"
          ]
        }
      ]
    },
    {
      "cell_type": "code",
      "source": [
        "sns.countplot(x=base_gato['Breed'], palette=['#6E8CFB','#636CCB'] )"
      ],
      "metadata": {
        "colab": {
          "base_uri": "https://localhost:8080/",
          "height": 689
        },
        "id": "ppekw8bES9oC",
        "outputId": "d494229d-971a-4a15-c650-90b6dee2926e"
      },
      "execution_count": 58,
      "outputs": [
        {
          "output_type": "stream",
          "name": "stderr",
          "text": [
            "/tmp/ipython-input-312008217.py:1: FutureWarning:\n",
            "\n",
            "\n",
            "\n",
            "Passing `palette` without assigning `hue` is deprecated and will be removed in v0.14.0. Assign the `x` variable to `hue` and set `legend=False` for the same effect.\n",
            "\n",
            "\n",
            "/tmp/ipython-input-312008217.py:1: UserWarning:\n",
            "\n",
            "\n",
            "The palette list has fewer values (2) than needed (3) and will cycle, which may produce an uninterpretable plot.\n",
            "\n"
          ]
        },
        {
          "output_type": "execute_result",
          "data": {
            "text/plain": [
              "<Axes: xlabel='Breed', ylabel='count'>"
            ]
          },
          "metadata": {},
          "execution_count": 58
        },
        {
          "output_type": "display_data",
          "data": {
            "text/plain": [
              "<Figure size 640x480 with 1 Axes>"
            ],
            "image/png": "[encoded data removed]"
          },
          "metadata": {}
        }
      ]
    },
    {
      "cell_type": "code",
      "source": [
        "grafico = px.parallel_categories(base_gato, dimensions=['Breed','Country'])\n",
        "grafico.show()"
      ],
      "metadata": {
        "colab": {
          "base_uri": "https://localhost:8080/",
          "height": 542
        },
        "id": "MTfp1B2JTMRZ",
        "outputId": "f97445e9-e3f6-4af9-fcba-41f7fc6a6edf"
      },
      "execution_count": 59,
      "outputs": [
        {
          "output_type": "display_data",
          "data": {
            "text/html": [
              "<html>\n",
              "<head><meta charset=\"utf-8\" /></head>\n",
              "<body>\n",
              "    <div>            <script src=\"https://cdnjs.cloudflare.com/ajax/libs/mathjax/2.7.5/MathJax.js?config=TeX-AMS-MML_SVG\"></script><script type=\"text/javascript\">if (window.MathJax && window.MathJax.Hub && window.MathJax.Hub.Config) {window.MathJax.Hub.Config({SVG: {font: \"STIX-Web\"}});}</script>                <script type=\"text/javascript\">window.PlotlyConfig = {MathJaxConfig: 'local'};</script>\n",
              "        <script charset=\"utf-8\" src=\"https://cdn.plot.ly/plotly-2.35.2.min.js\"></script>                <div id=\"e3be1555-5e76-46cc-a292-ac25d4e67e98\" class=\"plotly-graph-div\" style=\"height:525px; width:100%;\"></div>            <script type=\"text/javascript\">                                    window.PLOTLYENV=window.PLOTLYENV || {};                                    if (document.getElementById(\"e3be1555-5e76-46cc-a292-ac25d4e67e98\")) {                    Plotly.newPlot(                        \"e3be1555-5e76-46cc-a292-ac25d4e67e98\",                        [{\"dimensions\":[{\"label\":\"Breed\",\"values\":[\"Angora\",\"Angora\",\"Angora\",\"Angora\",\"Angora\",\"Angora\",\"Angora\",\"Angora\",\"Angora\",\"Angora\",\"Angora\",\"Angora\",\"Angora\",\"Angora\",\"Angora\",\"Angora\",\"Angora\",\"Angora\",\"Angora\",\"Angora\",\"Angora\",\"Angora\",\"Angora\",\"Angora\",\"Angora\",\"Angora\",\"Angora\",\"Angora\",\"Angora\",\"Angora\",\"Angora\",\"Angora\",\"Angora\",\"Angora\",\"Angora\",\"Angora\",\"Angora\",\"Angora\",\"Angora\",\"Angora\",\"Angora\",\"Angora\",\"Angora\",\"Angora\",\"Angora\",\"Angora\",\"Angora\",\"Angora\",\"Angora\",\"Angora\",\"Angora\",\"Angora\",\"Angora\",\"Angora\",\"Angora\",\"Angora\",\"Angora\",\"Angora\",\"Angora\",\"Angora\",\"Angora\",\"Angora\",\"Angora\",\"Angora\",\"Angora\",\"Angora\",\"Angora\",\"Angora\",\"Angora\",\"Angora\",\"Angora\",\"Angora\",\"Angora\",\"Angora\",\"Angora\",\"Angora\",\"Angora\",\"Angora\",\"Angora\",\"Angora\",\"Angora\",\"Angora\",\"Angora\",\"Angora\",\"Angora\",\"Angora\",\"Angora\",\"Angora\",\"Angora\",\"Angora\",\"Angora\",\"Angora\",\"Angora\",\"Angora\",\"Angora\",\"Angora\",\"Angora\",\"Angora\",\"Angora\",\"Angora\",\"Angora\",\"Angora\",\"Angora\",\"Angora\",\"Angora\",\"Angora\",\"Angora\",\"Angora\",\"Angora\",\"Angora\",\"Angora\",\"Angora\",\"Angora\",\"Angora\",\"Angora\",\"Angora\",\"Angora\",\"Angora\",\"Angora\",\"Angora\",\"Angora\",\"Angora\",\"Angora\",\"Angora\",\"Angora\",\"Angora\",\"Angora\",\"Angora\",\"Angora\",\"Angora\",\"Angora\",\"Angora\",\"Angora\",\"Angora\",\"Angora\",\"Angora\",\"Angora\",\"Angora\",\"Angora\",\"Angora\",\"Angora\",\"Angora\",\"Angora\",\"Angora\",\"Angora\",\"Angora\",\"Angora\",\"Angora\",\"Angora\",\"Angora\",\"Angora\",\"Angora\",\"Angora\",\"Angora\",\"Angora\",\"Angora\",\"Angora\",\"Angora\",\"Angora\",\"Angora\",\"Angora\",\"Angora\",\"Angora\",\"Angora\",\"Angora\",\"Angora\",\"Angora\",\"Angora\",\"Angora\",\"Angora\",\"Angora\",\"Angora\",\"Angora\",\"Angora\",\"Angora\",\"Angora\",\"Angora\",\"Angora\",\"Angora\",\"Angora\",\"Angora\",\"Angora\",\"Angora\",\"Angora\",\"Angora\",\"Angora\",\"Angora\",\"Angora\",\"Angora\",\"Angora\",\"Angora\",\"Angora\",\"Angora\",\"Angora\",\"Angora\",\"Angora\",\"Angora\",\"Angora\",\"Angora\",\"Angora\",\"Angora\",\"Angora\",\"Angora\",\"Angora\",\"Angora\",\"Angora\",\"Angora\",\"Angora\",\"Angora\",\"Angora\",\"Angora\",\"Angora\",\"Angora\",\"Angora\",\"Angora\",\"Angora\",\"Angora\",\"Angora\",\"Angora\",\"Angora\",\"Angora\",\"Angora\",\"Angora\",\"Angora\",\"Angora\",\"Angora\",\"Angora\",\"Angora\",\"Angora\",\"Angora\",\"Angora\",\"Angora\",\"Angora\",\"Angora\",\"Angora\",\"Angora\",\"Angora\",\"Angora\",\"Angora\",\"Angora\",\"Angora\",\"Angora\",\"Angora\",\"Angora\",\"Angora\",\"Angora\",\"Angora\",\"Angora\",\"Angora\",\"Angora\",\"Angora\",\"Angora\",\"Angora\",\"Angora\",\"Angora\",\"Angora\",\"Angora\",\"Angora\",\"Angora\",\"Angora\",\"Angora\",\"Angora\",\"Angora\",\"Angora\",\"Angora\",\"Angora\",\"Angora\",\"Angora\",\"Angora\",\"Angora\",\"Angora\",\"Angora\",\"Angora\",\"Angora\",\"Angora\",\"Angora\",\"Angora\",\"Angora\",\"Angora\",\"Angora\",\"Maine coon\",\"Maine coon\",\"Maine coon\",\"Maine coon\",\"Maine coon\",\"Maine coon\",\"Maine coon\",\"Maine coon\",\"Maine coon\",\"Maine coon\",\"Maine coon\",\"Maine coon\",\"Maine coon\",\"Maine coon\",\"Maine coon\",\"Maine coon\",\"Maine coon\",\"Maine coon\",\"Maine coon\",\"Maine coon\",\"Maine coon\",\"Maine coon\",\"Maine coon\",\"Maine coon\",\"Maine coon\",\"Maine coon\",\"Maine coon\",\"Maine coon\",\"Maine coon\",\"Maine coon\",\"Maine coon\",\"Maine coon\",\"Maine coon\",\"Maine coon\",\"Maine coon\",\"Maine coon\",\"Maine coon\",\"Maine coon\",\"Maine coon\",\"Maine coon\",\"Maine coon\",\"Maine coon\",\"Maine coon\",\"Maine coon\",\"Maine coon\",\"Maine coon\",\"Maine coon\",\"Maine coon\",\"Maine coon\",\"Maine coon\",\"Maine coon\",\"Maine coon\",\"Maine coon\",\"Maine coon\",\"Maine coon\",\"Maine coon\",\"Maine coon\",\"Maine coon\",\"Maine coon\",\"Maine coon\",\"Maine coon\",\"Maine coon\",\"Maine coon\",\"Maine coon\",\"Maine coon\",\"Maine coon\",\"Maine coon\",\"Maine coon\",\"Maine coon\",\"Maine coon\",\"Maine coon\",\"Maine coon\",\"Maine coon\",\"Maine coon\",\"Maine coon\",\"Maine coon\",\"Maine coon\",\"Maine coon\",\"Maine coon\",\"Maine coon\",\"Maine coon\",\"Maine coon\",\"Maine coon\",\"Maine coon\",\"Maine coon\",\"Maine coon\",\"Maine coon\",\"Maine coon\",\"Maine coon\",\"Maine coon\",\"Maine coon\",\"Maine coon\",\"Maine coon\",\"Maine coon\",\"Maine coon\",\"Maine coon\",\"Maine coon\",\"Maine coon\",\"Maine coon\",\"Maine coon\",\"Maine coon\",\"Maine coon\",\"Maine coon\",\"Maine coon\",\"Maine coon\",\"Maine coon\",\"Maine coon\",\"Maine coon\",\"Maine coon\",\"Maine coon\",\"Maine coon\",\"Maine coon\",\"Maine coon\",\"Maine coon\",\"Maine coon\",\"Maine coon\",\"Maine coon\",\"Maine coon\",\"Maine coon\",\"Maine coon\",\"Maine coon\",\"Maine coon\",\"Maine coon\",\"Maine coon\",\"Maine coon\",\"Maine coon\",\"Maine coon\",\"Maine coon\",\"Maine coon\",\"Maine coon\",\"Maine coon\",\"Maine coon\",\"Maine coon\",\"Maine coon\",\"Maine coon\",\"Maine coon\",\"Maine coon\",\"Maine coon\",\"Maine coon\",\"Maine coon\",\"Maine coon\",\"Maine coon\",\"Maine coon\",\"Maine coon\",\"Maine coon\",\"Maine coon\",\"Maine coon\",\"Maine coon\",\"Maine coon\",\"Maine coon\",\"Maine coon\",\"Maine coon\",\"Maine coon\",\"Maine coon\",\"Maine coon\",\"Maine coon\",\"Maine coon\",\"Maine coon\",\"Maine coon\",\"Maine coon\",\"Maine coon\",\"Maine coon\",\"Maine coon\",\"Maine coon\",\"Maine coon\",\"Maine coon\",\"Maine coon\",\"Maine coon\",\"Maine coon\",\"Maine coon\",\"Maine coon\",\"Maine coon\",\"Maine coon\",\"Maine coon\",\"Maine coon\",\"Maine coon\",\"Maine coon\",\"Maine coon\",\"Maine coon\",\"Maine coon\",\"Maine coon\",\"Maine coon\",\"Maine coon\",\"Maine coon\",\"Maine coon\",\"Maine coon\",\"Maine coon\",\"Maine coon\",\"Maine coon\",\"Maine coon\",\"Maine coon\",\"Maine coon\",\"Maine coon\",\"Maine coon\",\"Maine coon\",\"Maine coon\",\"Maine coon\",\"Maine coon\",\"Maine coon\",\"Maine coon\",\"Maine coon\",\"Maine coon\",\"Maine coon\",\"Maine coon\",\"Maine coon\",\"Maine coon\",\"Maine coon\",\"Maine coon\",\"Maine coon\",\"Maine coon\",\"Maine coon\",\"Maine coon\",\"Maine coon\",\"Maine coon\",\"Maine coon\",\"Maine coon\",\"Maine coon\",\"Maine coon\",\"Maine coon\",\"Maine coon\",\"Maine coon\",\"Maine coon\",\"Maine coon\",\"Maine coon\",\"Maine coon\",\"Maine coon\",\"Maine coon\",\"Maine coon\",\"Maine coon\",\"Maine coon\",\"Maine coon\",\"Maine coon\",\"Maine coon\",\"Maine coon\",\"Maine coon\",\"Maine coon\",\"Maine coon\",\"Maine coon\",\"Maine coon\",\"Maine coon\",\"Maine coon\",\"Maine coon\",\"Maine coon\",\"Maine coon\",\"Maine coon\",\"Maine coon\",\"Maine coon\",\"Maine coon\",\"Maine coon\",\"Maine coon\",\"Maine coon\",\"Maine coon\",\"Maine coon\",\"Maine coon\",\"Maine coon\",\"Maine coon\",\"Maine coon\",\"Maine coon\",\"Maine coon\",\"Maine coon\",\"Maine coon\",\"Maine coon\",\"Maine coon\",\"Maine coon\",\"Maine coon\",\"Maine coon\",\"Maine coon\",\"Maine coon\",\"Maine coon\",\"Maine coon\",\"Maine coon\",\"Maine coon\",\"Maine coon\",\"Maine coon\",\"Maine coon\",\"Maine coon\",\"Maine coon\",\"Maine coon\",\"Maine coon\",\"Maine coon\",\"Maine coon\",\"Maine coon\",\"Maine coon\",\"Maine coon\",\"Maine coon\",\"Maine coon\",\"Maine coon\",\"Maine coon\",\"Maine coon\",\"Maine coon\",\"Maine coon\",\"Maine coon\",\"Maine coon\",\"Maine coon\",\"Maine coon\",\"Maine coon\",\"Maine coon\",\"Maine coon\",\"Maine coon\",\"Maine coon\",\"Maine coon\",\"Maine coon\",\"Maine coon\",\"Maine coon\",\"Maine coon\",\"Maine coon\",\"Maine coon\",\"Maine coon\",\"Maine coon\",\"Maine coon\",\"Maine coon\",\"Maine coon\",\"Maine coon\",\"Maine coon\",\"Maine coon\",\"Maine coon\",\"Maine coon\",\"Maine coon\",\"Maine coon\",\"Maine coon\",\"Maine coon\",\"Maine coon\",\"Maine coon\",\"Maine coon\",\"Maine coon\",\"Maine coon\",\"Ragdoll\",\"Ragdoll\",\"Ragdoll\",\"Ragdoll\",\"Ragdoll\",\"Ragdoll\",\"Ragdoll\",\"Ragdoll\",\"Ragdoll\",\"Ragdoll\",\"Ragdoll\",\"Ragdoll\",\"Ragdoll\",\"Ragdoll\",\"Ragdoll\",\"Ragdoll\",\"Ragdoll\",\"Ragdoll\",\"Ragdoll\",\"Ragdoll\",\"Ragdoll\",\"Ragdoll\",\"Ragdoll\",\"Ragdoll\",\"Ragdoll\",\"Ragdoll\",\"Ragdoll\",\"Ragdoll\",\"Ragdoll\",\"Ragdoll\",\"Ragdoll\",\"Ragdoll\",\"Ragdoll\",\"Ragdoll\",\"Ragdoll\",\"Ragdoll\",\"Ragdoll\",\"Ragdoll\",\"Ragdoll\",\"Ragdoll\",\"Ragdoll\",\"Ragdoll\",\"Ragdoll\",\"Ragdoll\",\"Ragdoll\",\"Ragdoll\",\"Ragdoll\",\"Ragdoll\",\"Ragdoll\",\"Ragdoll\",\"Ragdoll\",\"Ragdoll\",\"Ragdoll\",\"Ragdoll\",\"Ragdoll\",\"Ragdoll\",\"Ragdoll\",\"Ragdoll\",\"Ragdoll\",\"Ragdoll\",\"Ragdoll\",\"Ragdoll\",\"Ragdoll\",\"Ragdoll\",\"Ragdoll\",\"Ragdoll\",\"Ragdoll\",\"Ragdoll\",\"Ragdoll\",\"Ragdoll\",\"Ragdoll\",\"Ragdoll\",\"Ragdoll\",\"Ragdoll\",\"Ragdoll\",\"Ragdoll\",\"Ragdoll\",\"Ragdoll\",\"Ragdoll\",\"Ragdoll\",\"Ragdoll\",\"Ragdoll\",\"Ragdoll\",\"Ragdoll\",\"Ragdoll\",\"Ragdoll\",\"Ragdoll\",\"Ragdoll\",\"Ragdoll\",\"Ragdoll\",\"Ragdoll\",\"Ragdoll\",\"Ragdoll\",\"Ragdoll\",\"Ragdoll\",\"Ragdoll\",\"Ragdoll\",\"Ragdoll\",\"Ragdoll\",\"Ragdoll\",\"Ragdoll\",\"Ragdoll\",\"Ragdoll\",\"Ragdoll\",\"Ragdoll\",\"Ragdoll\",\"Ragdoll\",\"Ragdoll\",\"Ragdoll\",\"Ragdoll\",\"Ragdoll\",\"Ragdoll\",\"Ragdoll\",\"Ragdoll\",\"Ragdoll\",\"Ragdoll\",\"Ragdoll\",\"Ragdoll\",\"Ragdoll\",\"Ragdoll\",\"Ragdoll\",\"Ragdoll\",\"Ragdoll\",\"Ragdoll\",\"Ragdoll\",\"Ragdoll\",\"Ragdoll\",\"Ragdoll\",\"Ragdoll\",\"Ragdoll\",\"Ragdoll\",\"Ragdoll\",\"Ragdoll\",\"Ragdoll\",\"Ragdoll\",\"Ragdoll\",\"Ragdoll\",\"Ragdoll\",\"Ragdoll\",\"Ragdoll\",\"Ragdoll\",\"Ragdoll\",\"Ragdoll\",\"Ragdoll\",\"Ragdoll\",\"Ragdoll\",\"Ragdoll\",\"Ragdoll\",\"Ragdoll\",\"Ragdoll\",\"Ragdoll\",\"Ragdoll\",\"Ragdoll\",\"Ragdoll\",\"Ragdoll\",\"Ragdoll\",\"Ragdoll\",\"Ragdoll\",\"Ragdoll\",\"Ragdoll\",\"Ragdoll\",\"Ragdoll\",\"Ragdoll\",\"Ragdoll\",\"Ragdoll\",\"Ragdoll\",\"Ragdoll\",\"Ragdoll\",\"Ragdoll\",\"Ragdoll\",\"Ragdoll\",\"Ragdoll\",\"Ragdoll\",\"Ragdoll\",\"Ragdoll\",\"Ragdoll\",\"Ragdoll\",\"Ragdoll\",\"Ragdoll\",\"Ragdoll\",\"Ragdoll\",\"Ragdoll\",\"Ragdoll\",\"Ragdoll\",\"Ragdoll\",\"Ragdoll\",\"Ragdoll\",\"Ragdoll\",\"Ragdoll\",\"Ragdoll\",\"Ragdoll\",\"Ragdoll\",\"Ragdoll\",\"Ragdoll\",\"Ragdoll\",\"Ragdoll\",\"Ragdoll\",\"Ragdoll\",\"Ragdoll\",\"Ragdoll\",\"Ragdoll\",\"Ragdoll\",\"Ragdoll\",\"Ragdoll\",\"Ragdoll\",\"Ragdoll\",\"Ragdoll\",\"Ragdoll\",\"Ragdoll\",\"Ragdoll\",\"Ragdoll\",\"Ragdoll\",\"Ragdoll\",\"Ragdoll\",\"Ragdoll\",\"Ragdoll\",\"Ragdoll\",\"Ragdoll\",\"Ragdoll\",\"Ragdoll\",\"Ragdoll\",\"Ragdoll\",\"Ragdoll\",\"Ragdoll\",\"Ragdoll\",\"Ragdoll\",\"Ragdoll\",\"Ragdoll\",\"Ragdoll\",\"Ragdoll\",\"Ragdoll\",\"Ragdoll\",\"Ragdoll\",\"Ragdoll\",\"Ragdoll\",\"Ragdoll\",\"Ragdoll\",\"Ragdoll\",\"Ragdoll\",\"Ragdoll\",\"Ragdoll\",\"Ragdoll\",\"Ragdoll\",\"Ragdoll\",\"Ragdoll\",\"Ragdoll\",\"Ragdoll\",\"Ragdoll\",\"Ragdoll\",\"Ragdoll\",\"Ragdoll\",\"Ragdoll\",\"Ragdoll\",\"Ragdoll\",\"Ragdoll\",\"Ragdoll\",\"Ragdoll\",\"Ragdoll\",\"Ragdoll\",\"Ragdoll\",\"Ragdoll\",\"Ragdoll\",\"Ragdoll\",\"Ragdoll\",\"Ragdoll\",\"Ragdoll\",\"Ragdoll\",\"Ragdoll\",\"Ragdoll\",\"Ragdoll\",\"Ragdoll\",\"Ragdoll\",\"Ragdoll\",\"Ragdoll\",\"Ragdoll\",\"Ragdoll\",\"Ragdoll\",\"Ragdoll\",\"Ragdoll\",\"Ragdoll\",\"Ragdoll\",\"Ragdoll\",\"Ragdoll\",\"Ragdoll\",\"Ragdoll\",\"Ragdoll\",\"Ragdoll\",\"Ragdoll\",\"Ragdoll\",\"Ragdoll\",\"Ragdoll\",\"Ragdoll\",\"Ragdoll\",\"Ragdoll\",\"Ragdoll\",\"Ragdoll\",\"Ragdoll\",\"Ragdoll\",\"Ragdoll\",\"Ragdoll\",\"Ragdoll\",\"Ragdoll\",\"Ragdoll\",\"Ragdoll\",\"Ragdoll\",\"Ragdoll\",\"Ragdoll\",\"Ragdoll\",\"Ragdoll\",\"Ragdoll\",\"Ragdoll\",\"Ragdoll\",\"Ragdoll\",\"Ragdoll\",\"Ragdoll\",\"Ragdoll\",\"Ragdoll\",\"Ragdoll\",\"Ragdoll\",\"Ragdoll\",\"Ragdoll\",\"Ragdoll\",\"Ragdoll\",\"Ragdoll\",\"Ragdoll\",\"Ragdoll\",\"Ragdoll\",\"Ragdoll\",\"Ragdoll\",\"Ragdoll\",\"Ragdoll\",\"Ragdoll\",\"Ragdoll\",\"Ragdoll\",\"Ragdoll\",\"Ragdoll\",\"Ragdoll\",\"Ragdoll\",\"Ragdoll\",\"Ragdoll\",\"Ragdoll\",\"Ragdoll\",\"Ragdoll\",\"Ragdoll\",\"Ragdoll\",\"Ragdoll\",\"Ragdoll\",\"Ragdoll\",\"Ragdoll\",\"Ragdoll\",\"Ragdoll\",\"Ragdoll\",\"Ragdoll\",\"Ragdoll\",\"Ragdoll\",\"Ragdoll\",\"Ragdoll\",\"Ragdoll\",\"Ragdoll\",\"Ragdoll\",\"Ragdoll\",\"Ragdoll\",\"Ragdoll\",\"Ragdoll\",\"Ragdoll\",\"Ragdoll\",\"Ragdoll\",\"Ragdoll\",\"Ragdoll\",\"Ragdoll\",\"Ragdoll\",\"Ragdoll\",\"Ragdoll\",\"Ragdoll\",\"Ragdoll\",\"Ragdoll\",\"Ragdoll\",\"Ragdoll\",\"Ragdoll\",\"Ragdoll\",\"Ragdoll\",\"Ragdoll\",\"Ragdoll\",\"Ragdoll\",\"Ragdoll\",\"Ragdoll\",\"Ragdoll\",\"Ragdoll\",\"Ragdoll\",\"Ragdoll\",\"Ragdoll\",\"Ragdoll\",\"Ragdoll\",\"Ragdoll\",\"Ragdoll\",\"Ragdoll\",\"Ragdoll\",\"Ragdoll\",\"Ragdoll\",\"Ragdoll\",\"Ragdoll\",\"Ragdoll\",\"Ragdoll\",\"Ragdoll\",\"Ragdoll\",\"Ragdoll\",\"Ragdoll\",\"Ragdoll\",\"Ragdoll\",\"Ragdoll\",\"Ragdoll\",\"Ragdoll\",\"Ragdoll\",\"Ragdoll\",\"Ragdoll\",\"Ragdoll\",\"Ragdoll\",\"Ragdoll\",\"Ragdoll\",\"Ragdoll\",\"Ragdoll\",\"Ragdoll\",\"Ragdoll\",\"Ragdoll\",\"Ragdoll\",\"Ragdoll\",\"Ragdoll\",\"Ragdoll\",\"Ragdoll\",\"Ragdoll\",\"Ragdoll\",\"Ragdoll\",\"Ragdoll\",\"Ragdoll\",\"Ragdoll\",\"Angora\",\"Angora\",\"Angora\",\"Angora\",\"Angora\",\"Angora\",\"Angora\",\"Angora\",\"Angora\",\"Angora\",\"Angora\",\"Angora\",\"Angora\",\"Angora\",\"Maine coon\",\"Maine coon\",\"Maine coon\",\"Maine coon\",\"Maine coon\",\"Maine coon\",\"Maine coon\",\"Maine coon\",\"Maine coon\",\"Maine coon\",\"Maine coon\",\"Maine coon\",\"Maine coon\",\"Maine coon\",\"Maine coon\",\"Maine coon\"]},{\"label\":\"Country\",\"values\":[\"France\",\"France\",\"France\",\"France\",\"France\",\"France\",\"France\",\"France\",\"France\",\"France\",\"France\",\"France\",\"France\",\"France\",\"France\",\"France\",\"France\",\"France\",\"France\",\"France\",\"France\",\"France\",\"France\",\"France\",\"France\",\"France\",\"France\",\"France\",\"France\",\"France\",\"France\",\"France\",\"France\",\"France\",\"France\",\"France\",\"France\",\"France\",\"France\",\"France\",\"France\",\"France\",\"France\",\"France\",\"France\",\"France\",\"France\",\"France\",\"France\",\"France\",\"France\",\"France\",\"France\",\"France\",\"France\",\"France\",\"France\",\"France\",\"France\",\"France\",\"France\",\"France\",\"France\",\"France\",\"France\",\"France\",\"France\",\"France\",\"France\",\"France\",\"France\",\"USA\",\"USA\",\"USA\",\"USA\",\"USA\",\"USA\",\"France\",\"USA\",\"USA\",\"USA\",\"USA\",\"USA\",\"USA\",\"France\",\"USA\",\"USA\",\"France\",\"USA\",\"USA\",\"USA\",\"USA\",\"France\",\"USA\",\"USA\",\"USA\",\"USA\",\"USA\",\"USA\",\"USA\",\"USA\",\"USA\",\"USA\",\"USA\",\"France\",\"USA\",\"USA\",\"USA\",\"USA\",\"USA\",\"USA\",\"USA\",\"USA\",\"USA\",\"USA\",\"USA\",\"USA\",\"USA\",\"USA\",\"USA\",\"France\",\"USA\",\"USA\",\"USA\",\"USA\",\"USA\",\"USA\",\"USA\",\"USA\",\"USA\",\"USA\",\"Germany\",\"Germany\",\"Germany\",\"Germany\",\"Germany\",\"Germany\",\"Germany\",\"Germany\",\"Germany\",\"Germany\",\"Germany\",\"Germany\",\"Germany\",\"Germany\",\"Germany\",\"Germany\",\"Germany\",\"Germany\",\"Germany\",\"Germany\",\"Germany\",\"Germany\",\"USA\",\"USA\",\"USA\",\"USA\",\"USA\",\"USA\",\"USA\",\"USA\",\"France\",\"USA\",\"USA\",\"USA\",\"USA\",\"France\",\"USA\",\"USA\",\"USA\",\"USA\",\"USA\",\"USA\",\"USA\",\"USA\",\"USA\",\"USA\",\"Canada\",\"Canada\",\"Canada\",\"Canada\",\"Canada\",\"Canada\",\"Canada\",\"Canada\",\"Canada\",\"Canada\",\"Canada\",\"Canada\",\"Canada\",\"Canada\",\"Canada\",\"Canada\",\"Canada\",\"Canada\",\"Canada\",\"USA\",\"USA\",\"USA\",\"USA\",\"USA\",\"USA\",\"USA\",\"USA\",\"USA\",\"USA\",\"USA\",\"USA\",\"USA\",\"USA\",\"USA\",\"USA\",\"USA\",\"USA\",\"USA\",\"USA\",\"USA\",\"USA\",\"USA\",\"USA\",\"USA\",\"USA\",\"USA\",\"USA\",\"USA\",\"USA\",\"USA\",\"USA\",\"USA\",\"USA\",\"USA\",\"USA\",\"USA\",\"USA\",\"USA\",\"USA\",\"USA\",\"USA\",\"USA\",\"USA\",\"USA\",\"USA\",\"USA\",\"USA\",\"USA\",\"USA\",\"USA\",\"USA\",\"USA\",\"USA\",\"USA\",\"USA\",\"USA\",\"USA\",\"USA\",\"USA\",\"USA\",\"USA\",\"USA\",\"USA\",\"USA\",\"USA\",\"USA\",\"UK\",\"UK\",\"UK\",\"UK\",\"UK\",\"UK\",\"UK\",\"UK\",\"UK\",\"UK\",\"UK\",\"UK\",\"UK\",\"UK\",\"UK\",\"USA\",\"USA\",\"USA\",\"USA\",\"USA\",\"UK\",\"UK\",\"UK\",\"UK\",\"UK\",\"UK\",\"UK\",\"UK\",\"UK\",\"UK\",\"UK\",\"UK\",\"UK\",\"UK\",\"UK\",\"UK\",\"UK\",\"UK\",\"USA\",\"USA\",\"UK\",\"UK\",\"UK\",\"UK\",\"UK\",\"France\",\"France\",\"France\",\"France\",\"France\",\"France\",\"France\",\"France\",\"France\",\"France\",\"France\",\"France\",\"France\",\"UK\",\"UK\",\"UK\",\"UK\",\"UK\",\"UK\",\"UK\",\"France\",\"UK\",\"UK\",\"UK\",\"UK\",\"UK\",\"UK\",\"Germany\",\"UK\",\"Germany\",\"UK\",\"UK\",\"UK\",\"UK\",\"UK\",\"UK\",\"UK\",\"UK\",\"UK\",\"UK\",\"UK\",\"UK\",\"UK\",\"UK\",\"UK\",\"UK\",\"UK\",\"UK\",\"UK\",\"Germany\",\"Germany\",\"Germany\",\"Germany\",\"Germany\",\"Germany\",\"UK\",\"UK\",\"UK\",\"UK\",\"UK\",\"UK\",\"UK\",\"USA\",\"USA\",\"USA\",\"USA\",\"USA\",\"USA\",\"USA\",\"USA\",\"USA\",\"Germany\",\"Germany\",\"Germany\",\"Germany\",\"Germany\",\"Germany\",\"Germany\",\"Germany\",\"USA\",\"USA\",\"USA\",\"USA\",\"USA\",\"USA\",\"USA\",\"USA\",\"USA\",\"USA\",\"USA\",\"USA\",\"USA\",\"USA\",\"USA\",\"USA\",\"USA\",\"USA\",\"USA\",\"USA\",\"USA\",\"USA\",\"USA\",\"USA\",\"USA\",\"USA\",\"USA\",\"USA\",\"USA\",\"USA\",\"USA\",\"USA\",\"USA\",\"USA\",\"USA\",\"USA\",\"USA\",\"USA\",\"USA\",\"USA\",\"USA\",\"USA\",\"USA\",\"USA\",\"USA\",\"USA\",\"USA\",\"USA\",\"USA\",\"USA\",\"USA\",\"USA\",\"USA\",\"Canada\",\"Canada\",\"Canada\",\"Canada\",\"Canada\",\"Canada\",\"Canada\",\"Canada\",\"Canada\",\"Canada\",\"Canada\",\"Canada\",\"Canada\",\"Canada\",\"Canada\",\"Canada\",\"Canada\",\"Canada\",\"Canada\",\"Canada\",\"USA\",\"USA\",\"USA\",\"USA\",\"USA\",\"USA\",\"USA\",\"USA\",\"USA\",\"USA\",\"USA\",\"USA\",\"USA\",\"USA\",\"USA\",\"USA\",\"USA\",\"USA\",\"Germany\",\"USA\",\"USA\",\"USA\",\"USA\",\"USA\",\"USA\",\"USA\",\"USA\",\"USA\",\"USA\",\"USA\",\"USA\",\"USA\",\"USA\",\"Germany\",\"Germany\",\"Germany\",\"Germany\",\"Germany\",\"Germany\",\"Germany\",\"Germany\",\"Germany\",\"Germany\",\"Germany\",\"USA\",\"Germany\",\"USA\",\"USA\",\"USA\",\"USA\",\"USA\",\"USA\",\"USA\",\"USA\",\"USA\",\"USA\",\"USA\",\"USA\",\"USA\",\"USA\",\"USA\",\"USA\",\"USA\",\"USA\",\"USA\",\"USA\",\"USA\",\"USA\",\"USA\",\"USA\",\"USA\",\"USA\",\"USA\",\"USA\",\"USA\",\"USA\",\"USA\",\"USA\",\"USA\",\"USA\",\"USA\",\"USA\",\"USA\",\"USA\",\"USA\",\"USA\",\"USA\",\"USA\",\"USA\",\"USA\",\"USA\",\"USA\",\"USA\",\"USA\",\"USA\",\"USA\",\"USA\",\"USA\",\"USA\",\"USA\",\"USA\",\"USA\",\"USA\",\"USA\",\"USA\",\"USA\",\"USA\",\"USA\",\"USA\",\"USA\",\"USA\",\"USA\",\"USA\",\"USA\",\"USA\",\"USA\",\"USA\",\"USA\",\"USA\",\"USA\",\"USA\",\"USA\",\"USA\",\"USA\",\"USA\",\"USA\",\"USA\",\"USA\",\"USA\",\"USA\",\"USA\",\"USA\",\"USA\",\"USA\",\"USA\",\"USA\",\"USA\",\"USA\",\"USA\",\"USA\",\"USA\",\"USA\",\"USA\",\"USA\",\"USA\",\"USA\",\"USA\",\"USA\",\"UK\",\"UK\",\"UK\",\"UK\",\"UK\",\"UK\",\"UK\",\"UK\",\"UK\",\"UK\",\"UK\",\"UK\",\"UK\",\"UK\",\"UK\",\"UK\",\"UK\",\"UK\",\"UK\",\"UK\",\"USA\",\"USA\",\"Germany\",\"Germany\",\"Germany\",\"Germany\",\"Germany\",\"Germany\",\"Germany\",\"Germany\",\"Germany\",\"Germany\",\"Germany\",\"Germany\",\"Germany\",\"Germany\",\"Germany\",\"Germany\",\"Germany\",\"USA\",\"USA\",\"USA\",\"USA\",\"USA\",\"USA\",\"USA\",\"USA\",\"USA\",\"USA\",\"USA\",\"Canada\",\"Canada\",\"Canada\",\"Canada\",\"Canada\",\"Canada\",\"Canada\",\"Canada\",\"Canada\",\"Canada\",\"UK\",\"UK\",\"UK\",\"UK\",\"UK\",\"UK\",\"UK\",\"UK\",\"UK\",\"UK\",\"UK\",\"UK\",\"UK\",\"UK\",\"Canada\",\"Canada\",\"Canada\",\"Canada\",\"Canada\",\"Canada\",\"Canada\",\"Canada\",\"Canada\",\"Canada\",\"Canada\",\"USA\",\"USA\",\"USA\",\"USA\",\"USA\",\"USA\",\"USA\",\"USA\",\"USA\",\"USA\",\"USA\",\"USA\",\"USA\",\"USA\",\"USA\",\"USA\",\"USA\",\"USA\",\"USA\",\"USA\",\"USA\",\"USA\",\"USA\",\"USA\",\"USA\",\"USA\",\"USA\",\"USA\",\"USA\",\"USA\",\"USA\",\"USA\",\"USA\",\"USA\",\"USA\",\"USA\",\"USA\",\"USA\",\"USA\",\"USA\",\"USA\",\"USA\",\"USA\",\"USA\",\"USA\",\"USA\",\"USA\",\"USA\",\"USA\",\"USA\",\"USA\",\"USA\",\"USA\",\"USA\",\"USA\",\"USA\",\"USA\",\"USA\",\"USA\",\"USA\",\"USA\",\"USA\",\"USA\",\"USA\",\"USA\",\"USA\",\"USA\",\"USA\",\"USA\",\"USA\",\"USA\",\"USA\",\"USA\",\"USA\",\"USA\",\"France\",\"France\",\"France\",\"France\",\"France\",\"France\",\"France\",\"France\",\"France\",\"France\",\"France\",\"USA\",\"USA\",\"USA\",\"USA\",\"USA\",\"USA\",\"USA\",\"USA\",\"USA\",\"USA\",\"USA\",\"USA\",\"USA\",\"USA\",\"USA\",\"USA\",\"USA\",\"USA\",\"USA\",\"USA\",\"USA\",\"USA\",\"USA\",\"USA\",\"USA\",\"USA\",\"USA\",\"USA\",\"USA\",\"USA\",\"USA\",\"USA\",\"USA\",\"USA\",\"USA\",\"USA\",\"USA\",\"USA\",\"USA\",\"USA\",\"USA\",\"USA\",\"USA\",\"USA\",\"USA\",\"USA\",\"USA\",\"USA\",\"USA\",\"USA\",\"USA\",\"USA\",\"USA\",\"USA\",\"USA\",\"USA\",\"USA\",\"USA\",\"USA\",\"Germany\",\"Germany\",\"Germany\",\"Germany\",\"Germany\",\"Germany\",\"Germany\",\"Germany\",\"Germany\",\"Germany\",\"USA\",\"USA\",\"USA\",\"USA\",\"USA\",\"USA\",\"USA\",\"USA\",\"USA\",\"USA\",\"USA\",\"USA\",\"USA\",\"USA\",\"USA\",\"USA\",\"USA\",\"USA\",\"USA\",\"USA\",\"USA\",\"UK\",\"UK\",\"UK\",\"UK\",\"UK\",\"UK\",\"UK\",\"UK\",\"UK\",\"UK\",\"UK\",\"UK\",\"UK\",\"USA\",\"Germany\",\"USA\",\"USA\",\"Germany\",\"Germany\",\"Germany\",\"Germany\",\"Germany\",\"Germany\",\"Germany\",\"Germany\",\"Germany\",\"USA\",\"USA\",\"USA\",\"USA\",\"USA\",\"USA\",\"USA\",\"USA\",\"USA\",\"USA\",\"USA\",\"USA\",\"USA\",\"USA\",\"USA\",\"USA\",\"USA\",\"USA\",\"Canada\",\"Canada\",\"Canada\",\"Canada\",\"Canada\",\"Canada\",\"Canada\",\"Canada\",\"Canada\",\"Canada\",\"Canada\",\"Canada\",\"Canada\",\"Canada\",\"Canada\",\"USA\",\"USA\",\"USA\",\"USA\",\"USA\",\"USA\",\"USA\",\"USA\",\"USA\",\"USA\",\"USA\",\"USA\",\"USA\",\"USA\",\"USA\",\"USA\",\"USA\",\"USA\",\"USA\",\"USA\",\"USA\",\"USA\",\"USA\",\"USA\",\"USA\",\"USA\",\"USA\",\"USA\",\"USA\",\"USA\",\"USA\",\"USA\",\"USA\",\"USA\",\"USA\",\"USA\",\"USA\",\"USA\",\"USA\",\"USA\",\"USA\",\"USA\",\"USA\",\"USA\",\"USA\",\"USA\",\"USA\",\"USA\",\"USA\",\"USA\",\"USA\",\"USA\",\"USA\",\"USA\",\"USA\",\"USA\",\"USA\",\"USA\",\"USA\",\"USA\",\"USA\",\"USA\",\"USA\",\"USA\",\"USA\",\"USA\",\"USA\",\"USA\",\"USA\",\"USA\",\"USA\",\"USA\",\"USA\",\"USA\",\"USA\",\"USA\",\"USA\",\"USA\",\"USA\",\"USA\",\"USA\",\"USA\",\"USA\",\"USA\",\"USA\",\"USA\",\"USA\",\"USA\",\"USA\",\"USA\",\"USA\",\"USA\",\"USA\",\"USA\",\"USA\",\"USA\",\"USA\",\"USA\",\"USA\",\"USA\",\"USA\",\"USA\",\"USA\",\"USA\",\"USA\",\"USA\",\"USA\",\"USA\",\"USA\",\"USA\",\"USA\",\"USA\",\"USA\",\"USA\",\"USA\",\"USA\",\"USA\",\"USA\",\"USA\",\"UK\",\"USA\",\"USA\",\"USA\",\"Germany\",\"USA\",\"USA\",\"USA\",\"USA\",\"USA\",\"USA\",\"USA\",\"USA\",\"USA\",\"USA\",\"USA\",\"UK\",\"UK\",\"UK\",\"UK\",\"UK\",\"UK\",\"UK\",\"UK\"]}],\"domain\":{\"x\":[0.0,1.0],\"y\":[0.0,1.0]},\"name\":\"\",\"type\":\"parcats\"}],                        {\"template\":{\"data\":{\"histogram2dcontour\":[{\"type\":\"histogram2dcontour\",\"colorbar\":{\"outlinewidth\":0,\"ticks\":\"\"},\"colorscale\":[[0.0,\"#0d0887\"],[0.1111111111111111,\"#46039f\"],[0.2222222222222222,\"#7201a8\"],[0.3333333333333333,\"#9c179e\"],[0.4444444444444444,\"#bd3786\"],[0.5555555555555556,\"#d8576b\"],[0.6666666666666666,\"#ed7953\"],[0.7777777777777778,\"#fb9f3a\"],[0.8888888888888888,\"#fdca26\"],[1.0,\"#f0f921\"]]}],\"choropleth\":[{\"type\":\"choropleth\",\"colorbar\":{\"outlinewidth\":0,\"ticks\":\"\"}}],\"histogram2d\":[{\"type\":\"histogram2d\",\"colorbar\":{\"outlinewidth\":0,\"ticks\":\"\"},\"colorscale\":[[0.0,\"#0d0887\"],[0.1111111111111111,\"#46039f\"],[0.2222222222222222,\"#7201a8\"],[0.3333333333333333,\"#9c179e\"],[0.4444444444444444,\"#bd3786\"],[0.5555555555555556,\"#d8576b\"],[0.6666666666666666,\"#ed7953\"],[0.7777777777777778,\"#fb9f3a\"],[0.8888888888888888,\"#fdca26\"],[1.0,\"#f0f921\"]]}],\"heatmap\":[{\"type\":\"heatmap\",\"colorbar\":{\"outlinewidth\":0,\"ticks\":\"\"},\"colorscale\":[[0.0,\"#0d0887\"],[0.1111111111111111,\"#46039f\"],[0.2222222222222222,\"#7201a8\"],[0.3333333333333333,\"#9c179e\"],[0.4444444444444444,\"#bd3786\"],[0.5555555555555556,\"#d8576b\"],[0.6666666666666666,\"#ed7953\"],[0.7777777777777778,\"#fb9f3a\"],[0.8888888888888888,\"#fdca26\"],[1.0,\"#f0f921\"]]}],\"heatmapgl\":[{\"type\":\"heatmapgl\",\"colorbar\":{\"outlinewidth\":0,\"ticks\":\"\"},\"colorscale\":[[0.0,\"#0d0887\"],[0.1111111111111111,\"#46039f\"],[0.2222222222222222,\"#7201a8\"],[0.3333333333333333,\"#9c179e\"],[0.4444444444444444,\"#bd3786\"],[0.5555555555555556,\"#d8576b\"],[0.6666666666666666,\"#ed7953\"],[0.7777777777777778,\"#fb9f3a\"],[0.8888888888888888,\"#fdca26\"],[1.0,\"#f0f921\"]]}],\"contourcarpet\":[{\"type\":\"contourcarpet\",\"colorbar\":{\"outlinewidth\":0,\"ticks\":\"\"}}],\"contour\":[{\"type\":\"contour\",\"colorbar\":{\"outlinewidth\":0,\"ticks\":\"\"},\"colorscale\":[[0.0,\"#0d0887\"],[0.1111111111111111,\"#46039f\"],[0.2222222222222222,\"#7201a8\"],[0.3333333333333333,\"#9c179e\"],[0.4444444444444444,\"#bd3786\"],[0.5555555555555556,\"#d8576b\"],[0.6666666666666666,\"#ed7953\"],[0.7777777777777778,\"#fb9f3a\"],[0.8888888888888888,\"#fdca26\"],[1.0,\"#f0f921\"]]}],\"surface\":[{\"type\":\"surface\",\"colorbar\":{\"outlinewidth\":0,\"ticks\":\"\"},\"colorscale\":[[0.0,\"#0d0887\"],[0.1111111111111111,\"#46039f\"],[0.2222222222222222,\"#7201a8\"],[0.3333333333333333,\"#9c179e\"],[0.4444444444444444,\"#bd3786\"],[0.5555555555555556,\"#d8576b\"],[0.6666666666666666,\"#ed7953\"],[0.7777777777777778,\"#fb9f3a\"],[0.8888888888888888,\"#fdca26\"],[1.0,\"#f0f921\"]]}],\"mesh3d\":[{\"type\":\"mesh3d\",\"colorbar\":{\"outlinewidth\":0,\"ticks\":\"\"}}],\"scatter\":[{\"fillpattern\":{\"fillmode\":\"overlay\",\"size\":10,\"solidity\":0.2},\"type\":\"scatter\"}],\"parcoords\":[{\"type\":\"parcoords\",\"line\":{\"colorbar\":{\"outlinewidth\":0,\"ticks\":\"\"}}}],\"scatterpolargl\":[{\"type\":\"scatterpolargl\",\"marker\":{\"colorbar\":{\"outlinewidth\":0,\"ticks\":\"\"}}}],\"bar\":[{\"error_x\":{\"color\":\"#2a3f5f\"},\"error_y\":{\"color\":\"#2a3f5f\"},\"marker\":{\"line\":{\"color\":\"#E5ECF6\",\"width\":0.5},\"pattern\":{\"fillmode\":\"overlay\",\"size\":10,\"solidity\":0.2}},\"type\":\"bar\"}],\"scattergeo\":[{\"type\":\"scattergeo\",\"marker\":{\"colorbar\":{\"outlinewidth\":0,\"ticks\":\"\"}}}],\"scatterpolar\":[{\"type\":\"scatterpolar\",\"marker\":{\"colorbar\":{\"outlinewidth\":0,\"ticks\":\"\"}}}],\"histogram\":[{\"marker\":{\"pattern\":{\"fillmode\":\"overlay\",\"size\":10,\"solidity\":0.2}},\"type\":\"histogram\"}],\"scattergl\":[{\"type\":\"scattergl\",\"marker\":{\"colorbar\":{\"outlinewidth\":0,\"ticks\":\"\"}}}],\"scatter3d\":[{\"type\":\"scatter3d\",\"line\":{\"colorbar\":{\"outlinewidth\":0,\"ticks\":\"\"}},\"marker\":{\"colorbar\":{\"outlinewidth\":0,\"ticks\":\"\"}}}],\"scattermapbox\":[{\"type\":\"scattermapbox\",\"marker\":{\"colorbar\":{\"outlinewidth\":0,\"ticks\":\"\"}}}],\"scatterternary\":[{\"type\":\"scatterternary\",\"marker\":{\"colorbar\":{\"outlinewidth\":0,\"ticks\":\"\"}}}],\"scattercarpet\":[{\"type\":\"scattercarpet\",\"marker\":{\"colorbar\":{\"outlinewidth\":0,\"ticks\":\"\"}}}],\"carpet\":[{\"aaxis\":{\"endlinecolor\":\"#2a3f5f\",\"gridcolor\":\"white\",\"linecolor\":\"white\",\"minorgridcolor\":\"white\",\"startlinecolor\":\"#2a3f5f\"},\"baxis\":{\"endlinecolor\":\"#2a3f5f\",\"gridcolor\":\"white\",\"linecolor\":\"white\",\"minorgridcolor\":\"white\",\"startlinecolor\":\"#2a3f5f\"},\"type\":\"carpet\"}],\"table\":[{\"cells\":{\"fill\":{\"color\":\"#EBF0F8\"},\"line\":{\"color\":\"white\"}},\"header\":{\"fill\":{\"color\":\"#C8D4E3\"},\"line\":{\"color\":\"white\"}},\"type\":\"table\"}],\"barpolar\":[{\"marker\":{\"line\":{\"color\":\"#E5ECF6\",\"width\":0.5},\"pattern\":{\"fillmode\":\"overlay\",\"size\":10,\"solidity\":0.2}},\"type\":\"barpolar\"}],\"pie\":[{\"automargin\":true,\"type\":\"pie\"}]},\"layout\":{\"autotypenumbers\":\"strict\",\"colorway\":[\"#636efa\",\"#EF553B\",\"#00cc96\",\"#ab63fa\",\"#FFA15A\",\"#19d3f3\",\"#FF6692\",\"#B6E880\",\"#FF97FF\",\"#FECB52\"],\"font\":{\"color\":\"#2a3f5f\"},\"hovermode\":\"closest\",\"hoverlabel\":{\"align\":\"left\"},\"paper_bgcolor\":\"white\",\"plot_bgcolor\":\"#E5ECF6\",\"polar\":{\"bgcolor\":\"#E5ECF6\",\"angularaxis\":{\"gridcolor\":\"white\",\"linecolor\":\"white\",\"ticks\":\"\"},\"radialaxis\":{\"gridcolor\":\"white\",\"linecolor\":\"white\",\"ticks\":\"\"}},\"ternary\":{\"bgcolor\":\"#E5ECF6\",\"aaxis\":{\"gridcolor\":\"white\",\"linecolor\":\"white\",\"ticks\":\"\"},\"baxis\":{\"gridcolor\":\"white\",\"linecolor\":\"white\",\"ticks\":\"\"},\"caxis\":{\"gridcolor\":\"white\",\"linecolor\":\"white\",\"ticks\":\"\"}},\"coloraxis\":{\"colorbar\":{\"outlinewidth\":0,\"ticks\":\"\"}},\"colorscale\":{\"sequential\":[[0.0,\"#0d0887\"],[0.1111111111111111,\"#46039f\"],[0.2222222222222222,\"#7201a8\"],[0.3333333333333333,\"#9c179e\"],[0.4444444444444444,\"#bd3786\"],[0.5555555555555556,\"#d8576b\"],[0.6666666666666666,\"#ed7953\"],[0.7777777777777778,\"#fb9f3a\"],[0.8888888888888888,\"#fdca26\"],[1.0,\"#f0f921\"]],\"sequentialminus\":[[0.0,\"#0d0887\"],[0.1111111111111111,\"#46039f\"],[0.2222222222222222,\"#7201a8\"],[0.3333333333333333,\"#9c179e\"],[0.4444444444444444,\"#bd3786\"],[0.5555555555555556,\"#d8576b\"],[0.6666666666666666,\"#ed7953\"],[0.7777777777777778,\"#fb9f3a\"],[0.8888888888888888,\"#fdca26\"],[1.0,\"#f0f921\"]],\"diverging\":[[0,\"#8e0152\"],[0.1,\"#c51b7d\"],[0.2,\"#de77ae\"],[0.3,\"#f1b6da\"],[0.4,\"#fde0ef\"],[0.5,\"#f7f7f7\"],[0.6,\"#e6f5d0\"],[0.7,\"#b8e186\"],[0.8,\"#7fbc41\"],[0.9,\"#4d9221\"],[1,\"#276419\"]]},\"xaxis\":{\"gridcolor\":\"white\",\"linecolor\":\"white\",\"ticks\":\"\",\"title\":{\"standoff\":15},\"zerolinecolor\":\"white\",\"automargin\":true,\"zerolinewidth\":2},\"yaxis\":{\"gridcolor\":\"white\",\"linecolor\":\"white\",\"ticks\":\"\",\"title\":{\"standoff\":15},\"zerolinecolor\":\"white\",\"automargin\":true,\"zerolinewidth\":2},\"scene\":{\"xaxis\":{\"backgroundcolor\":\"#E5ECF6\",\"gridcolor\":\"white\",\"linecolor\":\"white\",\"showbackground\":true,\"ticks\":\"\",\"zerolinecolor\":\"white\",\"gridwidth\":2},\"yaxis\":{\"backgroundcolor\":\"#E5ECF6\",\"gridcolor\":\"white\",\"linecolor\":\"white\",\"showbackground\":true,\"ticks\":\"\",\"zerolinecolor\":\"white\",\"gridwidth\":2},\"zaxis\":{\"backgroundcolor\":\"#E5ECF6\",\"gridcolor\":\"white\",\"linecolor\":\"white\",\"showbackground\":true,\"ticks\":\"\",\"zerolinecolor\":\"white\",\"gridwidth\":2}},\"shapedefaults\":{\"line\":{\"color\":\"#2a3f5f\"}},\"annotationdefaults\":{\"arrowcolor\":\"#2a3f5f\",\"arrowhead\":0,\"arrowwidth\":1},\"geo\":{\"bgcolor\":\"white\",\"landcolor\":\"#E5ECF6\",\"subunitcolor\":\"white\",\"showland\":true,\"showlakes\":true,\"lakecolor\":\"white\"},\"title\":{\"x\":0.05},\"mapbox\":{\"style\":\"light\"}}},\"legend\":{\"tracegroupgap\":0},\"margin\":{\"t\":60}},                        {\"responsive\": true}                    ).then(function(){\n",
              "                            \n",
              "var gd = document.getElementById('e3be1555-5e76-46cc-a292-ac25d4e67e98');\n",
              "var x = new MutationObserver(function (mutations, observer) {{\n",
              "        var display = window.getComputedStyle(gd).display;\n",
              "        if (!display || display === 'none') {{\n",
              "            console.log([gd, 'removed!']);\n",
              "            Plotly.purge(gd);\n",
              "            observer.disconnect();\n",
              "        }}\n",
              "}});\n",
              "\n",
              "// Listen for the removal of the full notebook cells\n",
              "var notebookContainer = gd.closest('#notebook-container');\n",
              "if (notebookContainer) {{\n",
              "    x.observe(notebookContainer, {childList: true});\n",
              "}}\n",
              "\n",
              "// Listen for the clearing of the current output cell\n",
              "var outputEl = gd.closest('.output');\n",
              "if (outputEl) {{\n",
              "    x.observe(outputEl, {childList: true});\n",
              "}}\n",
              "\n",
              "                        })                };                            </script>        </div>\n",
              "</body>\n",
              "</html>"
            ]
          },
          "metadata": {}
        }
      ]
    },
    {
      "cell_type": "code",
      "source": [
        "\n",
        "grafico = px.treemap(base_gato, path=['Breed','Fur_colour_dominant','Eye_colour'])\n",
        "grafico.show()"
      ],
      "metadata": {
        "colab": {
          "base_uri": "https://localhost:8080/",
          "height": 542
        },
        "id": "vup__pXJV7SL",
        "outputId": "0d65dd92-ea3a-4254-b93e-1b3edb35902c"
      },
      "execution_count": 60,
      "outputs": [
        {
          "output_type": "display_data",
          "data": {
            "text/html": [
              "<html>\n",
              "<head><meta charset=\"utf-8\" /></head>\n",
              "<body>\n",
              "    <div>            <script src=\"https://cdnjs.cloudflare.com/ajax/libs/mathjax/2.7.5/MathJax.js?config=TeX-AMS-MML_SVG\"></script><script type=\"text/javascript\">if (window.MathJax && window.MathJax.Hub && window.MathJax.Hub.Config) {window.MathJax.Hub.Config({SVG: {font: \"STIX-Web\"}});}</script>                <script type=\"text/javascript\">window.PlotlyConfig = {MathJaxConfig: 'local'};</script>\n",
              "        <script charset=\"utf-8\" src=\"https://cdn.plot.ly/plotly-2.35.2.min.js\"></script>                <div id=\"ea1ae9e5-9e41-46cb-8142-15bd57e45892\" class=\"plotly-graph-div\" style=\"height:525px; width:100%;\"></div>            <script type=\"text/javascript\">                                    window.PLOTLYENV=window.PLOTLYENV || {};                                    if (document.getElementById(\"ea1ae9e5-9e41-46cb-8142-15bd57e45892\")) {                    Plotly.newPlot(                        \"ea1ae9e5-9e41-46cb-8142-15bd57e45892\",                        [{\"branchvalues\":\"total\",\"domain\":{\"x\":[0.0,1.0],\"y\":[0.0,1.0]},\"hovertemplate\":\"labels=%{label}\\u003cbr\\u003ecount=%{value}\\u003cbr\\u003eparent=%{parent}\\u003cbr\\u003eid=%{id}\\u003cextra\\u003e\\u003c\\u002fextra\\u003e\",\"ids\":[\"Angora\\u002fblack\\u002famber\",\"Angora\\u002fred\\u002fcream\\u002famber\",\"Ragdoll\\u002fred\\u002fcream\\u002famber\",\"Ragdoll\\u002fseal\\u002famber\",\"Angora\\u002fwhite\\u002famber\",\"Angora\\u002fblack\\u002fblue\",\"Maine coon\\u002fblack\\u002fblue\",\"Maine coon\\u002fbrown\\u002fchocolate\\u002fblue\",\"Ragdoll\\u002fbrown\\u002fchocolate\\u002fblue\",\"Ragdoll\\u002flilac\\u002fblue\",\"Angora\\u002fred\\u002fcream\\u002fblue\",\"Maine coon\\u002fred\\u002fcream\\u002fblue\",\"Ragdoll\\u002fred\\u002fcream\\u002fblue\",\"Ragdoll\\u002fseal\\u002fblue\",\"Angora\\u002fwhite\\u002fblue\",\"Maine coon\\u002fwhite\\u002fblue\",\"Angora\\u002fblack\\u002fgreen\",\"Maine coon\\u002fblack\\u002fgreen\",\"Maine coon\\u002fbrown\\u002fchocolate\\u002fgreen\",\"Ragdoll\\u002fbrown\\u002fchocolate\\u002fgreen\",\"Ragdoll\\u002flilac\\u002fgreen\",\"Angora\\u002fred\\u002fcream\\u002fgreen\",\"Maine coon\\u002fred\\u002fcream\\u002fgreen\",\"Ragdoll\\u002fred\\u002fcream\\u002fgreen\",\"Ragdoll\\u002fseal\\u002fgreen\",\"Angora\\u002fwhite\\u002fgreen\",\"Maine coon\\u002fblack\\u002fyellow\",\"Maine coon\\u002fbrown\\u002fchocolate\\u002fyellow\",\"Maine coon\\u002fred\\u002fcream\\u002fyellow\",\"Maine coon\\u002fwhite\\u002fyellow\",\"Angora\\u002fblack\",\"Maine coon\\u002fblack\",\"Maine coon\\u002fbrown\\u002fchocolate\",\"Ragdoll\\u002fbrown\\u002fchocolate\",\"Ragdoll\\u002flilac\",\"Angora\\u002fred\\u002fcream\",\"Maine coon\\u002fred\\u002fcream\",\"Ragdoll\\u002fred\\u002fcream\",\"Ragdoll\\u002fseal\",\"Angora\\u002fwhite\",\"Maine coon\\u002fwhite\",\"Angora\",\"Maine coon\",\"Ragdoll\"],\"labels\":[\"amber\",\"amber\",\"amber\",\"amber\",\"amber\",\"blue\",\"blue\",\"blue\",\"blue\",\"blue\",\"blue\",\"blue\",\"blue\",\"blue\",\"blue\",\"blue\",\"green\",\"green\",\"green\",\"green\",\"green\",\"green\",\"green\",\"green\",\"green\",\"green\",\"yellow\",\"yellow\",\"yellow\",\"yellow\",\"black\",\"black\",\"brown\\u002fchocolate\",\"brown\\u002fchocolate\",\"lilac\",\"red\\u002fcream\",\"red\\u002fcream\",\"red\\u002fcream\",\"seal\",\"white\",\"white\",\"Angora\",\"Maine coon\",\"Ragdoll\"],\"name\":\"\",\"parents\":[\"Angora\\u002fblack\",\"Angora\\u002fred\\u002fcream\",\"Ragdoll\\u002fred\\u002fcream\",\"Ragdoll\\u002fseal\",\"Angora\\u002fwhite\",\"Angora\\u002fblack\",\"Maine coon\\u002fblack\",\"Maine coon\\u002fbrown\\u002fchocolate\",\"Ragdoll\\u002fbrown\\u002fchocolate\",\"Ragdoll\\u002flilac\",\"Angora\\u002fred\\u002fcream\",\"Maine coon\\u002fred\\u002fcream\",\"Ragdoll\\u002fred\\u002fcream\",\"Ragdoll\\u002fseal\",\"Angora\\u002fwhite\",\"Maine coon\\u002fwhite\",\"Angora\\u002fblack\",\"Maine coon\\u002fblack\",\"Maine coon\\u002fbrown\\u002fchocolate\",\"Ragdoll\\u002fbrown\\u002fchocolate\",\"Ragdoll\\u002flilac\",\"Angora\\u002fred\\u002fcream\",\"Maine coon\\u002fred\\u002fcream\",\"Ragdoll\\u002fred\\u002fcream\",\"Ragdoll\\u002fseal\",\"Angora\\u002fwhite\",\"Maine coon\\u002fblack\",\"Maine coon\\u002fbrown\\u002fchocolate\",\"Maine coon\\u002fred\\u002fcream\",\"Maine coon\\u002fwhite\",\"Angora\",\"Maine coon\",\"Maine coon\",\"Ragdoll\",\"Ragdoll\",\"Angora\",\"Maine coon\",\"Ragdoll\",\"Ragdoll\",\"Angora\",\"Maine coon\",\"\",\"\",\"\"],\"values\":[10,1,1,2,89,19,2,5,50,4,21,6,60,240,110,28,12,21,15,14,1,2,7,9,54,30,148,65,38,7,41,171,85,64,5,24,51,70,296,229,35,294,342,435],\"type\":\"treemap\"}],                        {\"template\":{\"data\":{\"histogram2dcontour\":[{\"type\":\"histogram2dcontour\",\"colorbar\":{\"outlinewidth\":0,\"ticks\":\"\"},\"colorscale\":[[0.0,\"#0d0887\"],[0.1111111111111111,\"#46039f\"],[0.2222222222222222,\"#7201a8\"],[0.3333333333333333,\"#9c179e\"],[0.4444444444444444,\"#bd3786\"],[0.5555555555555556,\"#d8576b\"],[0.6666666666666666,\"#ed7953\"],[0.7777777777777778,\"#fb9f3a\"],[0.8888888888888888,\"#fdca26\"],[1.0,\"#f0f921\"]]}],\"choropleth\":[{\"type\":\"choropleth\",\"colorbar\":{\"outlinewidth\":0,\"ticks\":\"\"}}],\"histogram2d\":[{\"type\":\"histogram2d\",\"colorbar\":{\"outlinewidth\":0,\"ticks\":\"\"},\"colorscale\":[[0.0,\"#0d0887\"],[0.1111111111111111,\"#46039f\"],[0.2222222222222222,\"#7201a8\"],[0.3333333333333333,\"#9c179e\"],[0.4444444444444444,\"#bd3786\"],[0.5555555555555556,\"#d8576b\"],[0.6666666666666666,\"#ed7953\"],[0.7777777777777778,\"#fb9f3a\"],[0.8888888888888888,\"#fdca26\"],[1.0,\"#f0f921\"]]}],\"heatmap\":[{\"type\":\"heatmap\",\"colorbar\":{\"outlinewidth\":0,\"ticks\":\"\"},\"colorscale\":[[0.0,\"#0d0887\"],[0.1111111111111111,\"#46039f\"],[0.2222222222222222,\"#7201a8\"],[0.3333333333333333,\"#9c179e\"],[0.4444444444444444,\"#bd3786\"],[0.5555555555555556,\"#d8576b\"],[0.6666666666666666,\"#ed7953\"],[0.7777777777777778,\"#fb9f3a\"],[0.8888888888888888,\"#fdca26\"],[1.0,\"#f0f921\"]]}],\"heatmapgl\":[{\"type\":\"heatmapgl\",\"colorbar\":{\"outlinewidth\":0,\"ticks\":\"\"},\"colorscale\":[[0.0,\"#0d0887\"],[0.1111111111111111,\"#46039f\"],[0.2222222222222222,\"#7201a8\"],[0.3333333333333333,\"#9c179e\"],[0.4444444444444444,\"#bd3786\"],[0.5555555555555556,\"#d8576b\"],[0.6666666666666666,\"#ed7953\"],[0.7777777777777778,\"#fb9f3a\"],[0.8888888888888888,\"#fdca26\"],[1.0,\"#f0f921\"]]}],\"contourcarpet\":[{\"type\":\"contourcarpet\",\"colorbar\":{\"outlinewidth\":0,\"ticks\":\"\"}}],\"contour\":[{\"type\":\"contour\",\"colorbar\":{\"outlinewidth\":0,\"ticks\":\"\"},\"colorscale\":[[0.0,\"#0d0887\"],[0.1111111111111111,\"#46039f\"],[0.2222222222222222,\"#7201a8\"],[0.3333333333333333,\"#9c179e\"],[0.4444444444444444,\"#bd3786\"],[0.5555555555555556,\"#d8576b\"],[0.6666666666666666,\"#ed7953\"],[0.7777777777777778,\"#fb9f3a\"],[0.8888888888888888,\"#fdca26\"],[1.0,\"#f0f921\"]]}],\"surface\":[{\"type\":\"surface\",\"colorbar\":{\"outlinewidth\":0,\"ticks\":\"\"},\"colorscale\":[[0.0,\"#0d0887\"],[0.1111111111111111,\"#46039f\"],[0.2222222222222222,\"#7201a8\"],[0.3333333333333333,\"#9c179e\"],[0.4444444444444444,\"#bd3786\"],[0.5555555555555556,\"#d8576b\"],[0.6666666666666666,\"#ed7953\"],[0.7777777777777778,\"#fb9f3a\"],[0.8888888888888888,\"#fdca26\"],[1.0,\"#f0f921\"]]}],\"mesh3d\":[{\"type\":\"mesh3d\",\"colorbar\":{\"outlinewidth\":0,\"ticks\":\"\"}}],\"scatter\":[{\"fillpattern\":{\"fillmode\":\"overlay\",\"size\":10,\"solidity\":0.2},\"type\":\"scatter\"}],\"parcoords\":[{\"type\":\"parcoords\",\"line\":{\"colorbar\":{\"outlinewidth\":0,\"ticks\":\"\"}}}],\"scatterpolargl\":[{\"type\":\"scatterpolargl\",\"marker\":{\"colorbar\":{\"outlinewidth\":0,\"ticks\":\"\"}}}],\"bar\":[{\"error_x\":{\"color\":\"#2a3f5f\"},\"error_y\":{\"color\":\"#2a3f5f\"},\"marker\":{\"line\":{\"color\":\"#E5ECF6\",\"width\":0.5},\"pattern\":{\"fillmode\":\"overlay\",\"size\":10,\"solidity\":0.2}},\"type\":\"bar\"}],\"scattergeo\":[{\"type\":\"scattergeo\",\"marker\":{\"colorbar\":{\"outlinewidth\":0,\"ticks\":\"\"}}}],\"scatterpolar\":[{\"type\":\"scatterpolar\",\"marker\":{\"colorbar\":{\"outlinewidth\":0,\"ticks\":\"\"}}}],\"histogram\":[{\"marker\":{\"pattern\":{\"fillmode\":\"overlay\",\"size\":10,\"solidity\":0.2}},\"type\":\"histogram\"}],\"scattergl\":[{\"type\":\"scattergl\",\"marker\":{\"colorbar\":{\"outlinewidth\":0,\"ticks\":\"\"}}}],\"scatter3d\":[{\"type\":\"scatter3d\",\"line\":{\"colorbar\":{\"outlinewidth\":0,\"ticks\":\"\"}},\"marker\":{\"colorbar\":{\"outlinewidth\":0,\"ticks\":\"\"}}}],\"scattermapbox\":[{\"type\":\"scattermapbox\",\"marker\":{\"colorbar\":{\"outlinewidth\":0,\"ticks\":\"\"}}}],\"scatterternary\":[{\"type\":\"scatterternary\",\"marker\":{\"colorbar\":{\"outlinewidth\":0,\"ticks\":\"\"}}}],\"scattercarpet\":[{\"type\":\"scattercarpet\",\"marker\":{\"colorbar\":{\"outlinewidth\":0,\"ticks\":\"\"}}}],\"carpet\":[{\"aaxis\":{\"endlinecolor\":\"#2a3f5f\",\"gridcolor\":\"white\",\"linecolor\":\"white\",\"minorgridcolor\":\"white\",\"startlinecolor\":\"#2a3f5f\"},\"baxis\":{\"endlinecolor\":\"#2a3f5f\",\"gridcolor\":\"white\",\"linecolor\":\"white\",\"minorgridcolor\":\"white\",\"startlinecolor\":\"#2a3f5f\"},\"type\":\"carpet\"}],\"table\":[{\"cells\":{\"fill\":{\"color\":\"#EBF0F8\"},\"line\":{\"color\":\"white\"}},\"header\":{\"fill\":{\"color\":\"#C8D4E3\"},\"line\":{\"color\":\"white\"}},\"type\":\"table\"}],\"barpolar\":[{\"marker\":{\"line\":{\"color\":\"#E5ECF6\",\"width\":0.5},\"pattern\":{\"fillmode\":\"overlay\",\"size\":10,\"solidity\":0.2}},\"type\":\"barpolar\"}],\"pie\":[{\"automargin\":true,\"type\":\"pie\"}]},\"layout\":{\"autotypenumbers\":\"strict\",\"colorway\":[\"#636efa\",\"#EF553B\",\"#00cc96\",\"#ab63fa\",\"#FFA15A\",\"#19d3f3\",\"#FF6692\",\"#B6E880\",\"#FF97FF\",\"#FECB52\"],\"font\":{\"color\":\"#2a3f5f\"},\"hovermode\":\"closest\",\"hoverlabel\":{\"align\":\"left\"},\"paper_bgcolor\":\"white\",\"plot_bgcolor\":\"#E5ECF6\",\"polar\":{\"bgcolor\":\"#E5ECF6\",\"angularaxis\":{\"gridcolor\":\"white\",\"linecolor\":\"white\",\"ticks\":\"\"},\"radialaxis\":{\"gridcolor\":\"white\",\"linecolor\":\"white\",\"ticks\":\"\"}},\"ternary\":{\"bgcolor\":\"#E5ECF6\",\"aaxis\":{\"gridcolor\":\"white\",\"linecolor\":\"white\",\"ticks\":\"\"},\"baxis\":{\"gridcolor\":\"white\",\"linecolor\":\"white\",\"ticks\":\"\"},\"caxis\":{\"gridcolor\":\"white\",\"linecolor\":\"white\",\"ticks\":\"\"}},\"coloraxis\":{\"colorbar\":{\"outlinewidth\":0,\"ticks\":\"\"}},\"colorscale\":{\"sequential\":[[0.0,\"#0d0887\"],[0.1111111111111111,\"#46039f\"],[0.2222222222222222,\"#7201a8\"],[0.3333333333333333,\"#9c179e\"],[0.4444444444444444,\"#bd3786\"],[0.5555555555555556,\"#d8576b\"],[0.6666666666666666,\"#ed7953\"],[0.7777777777777778,\"#fb9f3a\"],[0.8888888888888888,\"#fdca26\"],[1.0,\"#f0f921\"]],\"sequentialminus\":[[0.0,\"#0d0887\"],[0.1111111111111111,\"#46039f\"],[0.2222222222222222,\"#7201a8\"],[0.3333333333333333,\"#9c179e\"],[0.4444444444444444,\"#bd3786\"],[0.5555555555555556,\"#d8576b\"],[0.6666666666666666,\"#ed7953\"],[0.7777777777777778,\"#fb9f3a\"],[0.8888888888888888,\"#fdca26\"],[1.0,\"#f0f921\"]],\"diverging\":[[0,\"#8e0152\"],[0.1,\"#c51b7d\"],[0.2,\"#de77ae\"],[0.3,\"#f1b6da\"],[0.4,\"#fde0ef\"],[0.5,\"#f7f7f7\"],[0.6,\"#e6f5d0\"],[0.7,\"#b8e186\"],[0.8,\"#7fbc41\"],[0.9,\"#4d9221\"],[1,\"#276419\"]]},\"xaxis\":{\"gridcolor\":\"white\",\"linecolor\":\"white\",\"ticks\":\"\",\"title\":{\"standoff\":15},\"zerolinecolor\":\"white\",\"automargin\":true,\"zerolinewidth\":2},\"yaxis\":{\"gridcolor\":\"white\",\"linecolor\":\"white\",\"ticks\":\"\",\"title\":{\"standoff\":15},\"zerolinecolor\":\"white\",\"automargin\":true,\"zerolinewidth\":2},\"scene\":{\"xaxis\":{\"backgroundcolor\":\"#E5ECF6\",\"gridcolor\":\"white\",\"linecolor\":\"white\",\"showbackground\":true,\"ticks\":\"\",\"zerolinecolor\":\"white\",\"gridwidth\":2},\"yaxis\":{\"backgroundcolor\":\"#E5ECF6\",\"gridcolor\":\"white\",\"linecolor\":\"white\",\"showbackground\":true,\"ticks\":\"\",\"zerolinecolor\":\"white\",\"gridwidth\":2},\"zaxis\":{\"backgroundcolor\":\"#E5ECF6\",\"gridcolor\":\"white\",\"linecolor\":\"white\",\"showbackground\":true,\"ticks\":\"\",\"zerolinecolor\":\"white\",\"gridwidth\":2}},\"shapedefaults\":{\"line\":{\"color\":\"#2a3f5f\"}},\"annotationdefaults\":{\"arrowcolor\":\"#2a3f5f\",\"arrowhead\":0,\"arrowwidth\":1},\"geo\":{\"bgcolor\":\"white\",\"landcolor\":\"#E5ECF6\",\"subunitcolor\":\"white\",\"showland\":true,\"showlakes\":true,\"lakecolor\":\"white\"},\"title\":{\"x\":0.05},\"mapbox\":{\"style\":\"light\"}}},\"legend\":{\"tracegroupgap\":0},\"margin\":{\"t\":60}},                        {\"responsive\": true}                    ).then(function(){\n",
              "                            \n",
              "var gd = document.getElementById('ea1ae9e5-9e41-46cb-8142-15bd57e45892');\n",
              "var x = new MutationObserver(function (mutations, observer) {{\n",
              "        var display = window.getComputedStyle(gd).display;\n",
              "        if (!display || display === 'none') {{\n",
              "            console.log([gd, 'removed!']);\n",
              "            Plotly.purge(gd);\n",
              "            observer.disconnect();\n",
              "        }}\n",
              "}});\n",
              "\n",
              "// Listen for the removal of the full notebook cells\n",
              "var notebookContainer = gd.closest('#notebook-container');\n",
              "if (notebookContainer) {{\n",
              "    x.observe(notebookContainer, {childList: true});\n",
              "}}\n",
              "\n",
              "// Listen for the clearing of the current output cell\n",
              "var outputEl = gd.closest('.output');\n",
              "if (outputEl) {{\n",
              "    x.observe(outputEl, {childList: true});\n",
              "}}\n",
              "\n",
              "                        })                };                            </script>        </div>\n",
              "</body>\n",
              "</html>"
            ]
          },
          "metadata": {}
        }
      ]
    },
    {
      "cell_type": "code",
      "source": [
        "base_gato.plot.scatter(x='Age_in_years', y='Age_in_months', s=3 )"
      ],
      "metadata": {
        "colab": {
          "base_uri": "https://localhost:8080/",
          "height": 469
        },
        "id": "akonySnEYz8A",
        "outputId": "548d28cb-f2e0-45e7-e5cf-628d007c59d6"
      },
      "execution_count": 61,
      "outputs": [
        {
          "output_type": "execute_result",
          "data": {
            "text/plain": [
              "<Axes: xlabel='Age_in_years', ylabel='Age_in_months'>"
            ]
          },
          "metadata": {},
          "execution_count": 61
        },
        {
          "output_type": "display_data",
          "data": {
            "text/plain": [
              "<Figure size 640x480 with 1 Axes>"
            ],
            "image/png": "[encoded data removed]"
          },
          "metadata": {}
        }
      ]
    },
    {
      "cell_type": "markdown",
      "source": [
        "Esse código serve para transformar string em int, e padronizar a escala numerica:"
      ],
      "metadata": {
        "id": "e1Xtsv7KgmYL"
      }
    },
    {
      "cell_type": "code",
      "source": [
        "target = 'Breed'\n",
        "features = [\n",
        "    'Age_in_years', 'Gender', 'Neutered_or_spayed',\n",
        "    'Body_length', 'Weight', 'Fur_colour_dominant',\n",
        "    'Fur_pattern', 'Eye_colour', 'Allowed_outdoor',\n",
        "    'Preferred_food', 'Owner_play_time_minutes',\n",
        "    'Sleep_time_hours', 'Country'\n",
        "]\n",
        "clean_base = base_gato[features]\n",
        "clean_target = base_gato[target].copy()\n",
        "\n"
      ],
      "metadata": {
        "id": "HgS6Jg9npTQL"
      },
      "execution_count": 65,
      "outputs": []
    },
    {
      "cell_type": "code",
      "source": [
        "\n",
        "from sklearn.preprocessing import LabelEncoder\n",
        "\n",
        "features_les = {}\n",
        "base_encoded = clean_base.copy()\n",
        "for feat in features:\n",
        "    if base_encoded[feat].dtype == 'object':\n",
        "        features_les[feat] = LabelEncoder()\n",
        "        base_encoded[feat] = features_les[feat].fit_transform(base_encoded[feat])\n",
        "\n",
        "target_le = LabelEncoder()\n",
        "target_encoded = clean_target.copy()\n",
        "if(clean_target.dtype == 'object'):\n",
        "    target_encoded = target_le.fit_transform(target_encoded)\n",
        "target_encoded = pd.Series(target_encoded, name=target)"
      ],
      "metadata": {
        "id": "HVI_vCbtpjO7"
      },
      "execution_count": 66,
      "outputs": []
    },
    {
      "cell_type": "code",
      "source": [
        "from sklearn.preprocessing import StandardScaler\n",
        "\n",
        "scaler = StandardScaler()\n",
        "base_scaled = scaler.fit_transform(base_encoded)"
      ],
      "metadata": {
        "id": "6Iq-h3R3pr-z"
      },
      "execution_count": 67,
      "outputs": []
    },
    {
      "cell_type": "markdown",
      "source": [
        "# Treino e teste da I.A"
      ],
      "metadata": {
        "id": "P9Im3YntleSc"
      }
    },
    {
      "cell_type": "code",
      "source": [
        "from sklearn.model_selection import train_test_split\n",
        "\n",
        "x = base_scaled.copy()\n",
        "y = target_encoded.copy()\n",
        "\n",
        "x_train, x_test, y_train, y_test = train_test_split(x, y, test_size = 0.2, random_state = 11)"
      ],
      "metadata": {
        "id": "IbDf477KlnCW"
      },
      "execution_count": 68,
      "outputs": []
    },
    {
      "cell_type": "code",
      "source": [
        "import pickle\n",
        "with open('cat_breeds.pkl', mode = 'wb') as f:\n",
        "  pickle.dump([x_train, y_train, x_test, y_test], f)"
      ],
      "metadata": {
        "id": "QvVpJc-blzNj"
      },
      "execution_count": 69,
      "outputs": []
    },
    {
      "cell_type": "code",
      "source": [
        "with open('cat_breeds.pkl', 'rb') as f:\n",
        "  x_train, y_train, x_test, y_test = pickle.load(f)"
      ],
      "metadata": {
        "id": "B4gTdZWEl3os"
      },
      "execution_count": 71,
      "outputs": []
    },
    {
      "cell_type": "code",
      "source": [
        "from sklearn.naive_bayes import GaussianNB\n",
        "\n",
        "x_train, x_test, y_train, y_test = train_test_split(base_encoded, target_encoded, test_size = 0.2, random_state = 11)\n",
        "\n",
        "g_naivebayes = GaussianNB()\n",
        "g_naivebayes.fit(x_train, y_train)\n",
        "\n",
        "model = g_naivebayes"
      ],
      "metadata": {
        "id": "17LEL6mWl9qj"
      },
      "execution_count": 70,
      "outputs": []
    },
    {
      "cell_type": "code",
      "source": [
        "from sklearn.tree import DecisionTreeClassifier, plot_tree\n",
        "\n",
        "tree = DecisionTreeClassifier(criterion='gini', max_depth=3, random_state=42)\n",
        "tree.fit(x, y)\n",
        "\n",
        "model = tree\n",
        "\n",
        "\n",
        "plt.figure(figsize=(12,8))\n",
        "plot_tree(tree, feature_names=features, class_names=[str(x) for x in target_encoded.unique()], filled=True)\n",
        "plt.show()"
      ],
      "metadata": {
        "colab": {
          "base_uri": "https://localhost:8080/",
          "height": 653
        },
        "id": "fKn805VHnxKz",
        "outputId": "65626d69-90ce-4d9a-ae7e-186d58a47b45"
      },
      "execution_count": 72,
      "outputs": [
        {
          "output_type": "display_data",
          "data": {
            "text/plain": [
              "<Figure size 1200x800 with 1 Axes>"
            ],
            "image/png": "[encoded data removed]"
          },
          "metadata": {}
        }
      ]
    },
    {
      "cell_type": "code",
      "source": [
        "from sklearn.metrics import accuracy_score\n",
        "\n",
        "pred = model.predict(x_test)\n",
        "accuracy = accuracy_score(y_test, pred)\n",
        "accuracy"
      ],
      "metadata": {
        "colab": {
          "base_uri": "https://localhost:8080/"
        },
        "id": "2i4mAUCHmIBc",
        "outputId": "4cd8149c-b999-4c5f-eb35-276b02325fe5"
      },
      "execution_count": 73,
      "outputs": [
        {
          "output_type": "execute_result",
          "data": {
            "text/plain": [
              "0.9162790697674419"
            ]
          },
          "metadata": {},
          "execution_count": 73
        }
      ]
    },
    {
      "cell_type": "code",
      "source": [
        "from sklearn.metrics import precision_score\n",
        "\n",
        "pred = model.predict(x_test)\n",
        "precision = precision_score(y_test, pred, average='macro')\n",
        "precision"
      ],
      "metadata": {
        "colab": {
          "base_uri": "https://localhost:8080/"
        },
        "id": "NwbrXSqap6z6",
        "outputId": "da5fd9a2-96a7-4f43-c09e-131033446afc"
      },
      "execution_count": 74,
      "outputs": [
        {
          "output_type": "execute_result",
          "data": {
            "text/plain": [
              "0.9118634789867667"
            ]
          },
          "metadata": {},
          "execution_count": 74
        }
      ]
    },
    {
      "cell_type": "code",
      "source": [
        "from sklearn.metrics import recall_score\n",
        "\n",
        "pred = model.predict(x_test)\n",
        "recall = recall_score(y_test, pred, average='macro')\n",
        "recall"
      ],
      "metadata": {
        "colab": {
          "base_uri": "https://localhost:8080/"
        },
        "id": "2ZkE6Eltp_F7",
        "outputId": "1de7fe6e-f09d-4828-cb47-a0b507774430"
      },
      "execution_count": 75,
      "outputs": [
        {
          "output_type": "execute_result",
          "data": {
            "text/plain": [
              "0.9187809266756636"
            ]
          },
          "metadata": {},
          "execution_count": 75
        }
      ]
    },
    {
      "cell_type": "code",
      "source": [
        "from sklearn.metrics import f1_score\n",
        "\n",
        "pred = model.predict(x_test)\n",
        "f1 = f1_score(y_test, pred, average='macro')\n",
        "f"
      ],
      "metadata": {
        "colab": {
          "base_uri": "https://localhost:8080/"
        },
        "id": "WjD66mMLqBvr",
        "outputId": "ac223ba5-67f8-4aaa-bf25-e7a5fc4cd0a2"
      },
      "execution_count": 80,
      "outputs": [
        {
          "output_type": "execute_result",
          "data": {
            "text/plain": [
              "<_io.BufferedReader name='cat_breeds.pkl'>"
            ]
          },
          "metadata": {},
          "execution_count": 80
        }
      ]
    },
    {
      "cell_type": "code",
      "source": [
        "from yellowbrick.classifier import ConfusionMatrix\n",
        "plt.figure(figsize=(4,4))\n",
        "\n",
        "pred = model.predict(x_test)\n",
        "cm = ConfusionMatrix(model)\n",
        "cm.fit(x_train, y_train)\n",
        "cm.score(x_test, y_test)"
      ],
      "metadata": {
        "colab": {
          "base_uri": "https://localhost:8080/",
          "height": 382
        },
        "id": "avmEdl0jqSvq",
        "outputId": "17d8aec8-58e2-4694-871b-cd7e1ac018e2"
      },
      "execution_count": 78,
      "outputs": [
        {
          "output_type": "execute_result",
          "data": {
            "text/plain": [
              "0.9162790697674419"
            ]
          },
          "metadata": {},
          "execution_count": 78
        },
        {
          "output_type": "display_data",
          "data": {
            "text/plain": [
              "<Figure size 400x400 with 1 Axes>"
            ],
            "image/png": "[encoded data removed]"
          },
          "metadata": {}
        }
      ]
    },
    {
      "cell_type": "code",
      "source": [
        "from sklearn.metrics import classification_report\n",
        "\n",
        "print(classification_report(y_test, pred))"
      ],
      "metadata": {
        "colab": {
          "base_uri": "https://localhost:8080/"
        },
        "id": "1FB29K4pqdhq",
        "outputId": "da213921-a5ff-443b-9e58-ae166dd8b918"
      },
      "execution_count": 79,
      "outputs": [
        {
          "output_type": "stream",
          "name": "stdout",
          "text": [
            "              precision    recall  f1-score   support\n",
            "\n",
            "           0       0.83      0.95      0.89        57\n",
            "           1       0.92      0.86      0.89        78\n",
            "           2       0.99      0.95      0.97        80\n",
            "\n",
            "    accuracy                           0.92       215\n",
            "   macro avg       0.91      0.92      0.91       215\n",
            "weighted avg       0.92      0.92      0.92       215\n",
            "\n"
          ]
        }
      ]
    }
  ]
}